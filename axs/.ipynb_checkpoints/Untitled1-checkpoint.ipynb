{
 "cells": [
  {
   "cell_type": "code",
   "execution_count": 292,
   "metadata": {},
   "outputs": [],
   "source": [
    "from selenium import webdriver\n",
    "from selenium.webdriver.common.keys import Keys\n",
    "from selenium.webdriver.common.by import By\n",
    "from selenium.webdriver.support.ui import WebDriverWait\n",
    "from selenium.webdriver.support import expected_conditions as EC\n",
    "import time\n",
    "import csv\n",
    "import re\n",
    "import functools #for reduce_concat function\n",
    "import datetime #for csv file title\n",
    "import random\n",
    "\n",
    "now = datetime.datetime.now() #for csv file title"
   ]
  },
  {
   "cell_type": "code",
   "execution_count": 143,
   "metadata": {},
   "outputs": [],
   "source": [
    "#Initiate Chrome Driver and ignore certificate errors\n",
    "options = webdriver.ChromeOptions()\n",
    "options.add_argument('--ignore-certificate-errors')\n",
    "options.add_argument('--ignore-ssl-errors')\n",
    "driver = webdriver.Chrome(chrome_options=options)\n",
    "driver.get(\"https://www.axs.com/browse/music\")"
   ]
  },
  {
   "cell_type": "code",
   "execution_count": 144,
   "metadata": {},
   "outputs": [],
   "source": [
    "#give the website time to load\n",
    "time.sleep(5)\n",
    "driver.maximize_window()\n",
    "\n",
    "#Wait for JavaScript to appear before entering location\n",
    "enterloc = WebDriverWait(driver, 20).until(EC.presence_of_element_located((By.XPATH, \"//body\")))\n",
    "time.sleep(5)\n",
    "\n",
    "#Navigate to input for location and enter city name\n",
    "enterloc = driver.find_element_by_xpath('//div[@class=\"nav-item-container\"]/ul/li/a[@class=\"nav-location location-search-trigger\"]')\n",
    "enterloc.click()\n",
    "time.sleep(1.5)\n",
    "typeloc = driver.find_element_by_xpath('//div/input[@class=\"location-search__form-input\"]')\n",
    "\n",
    "#Type the string more slowly to avoid detection\n",
    "keysender = \"New York City, NY\"\n",
    "keysender.split()\n",
    "for i in keysender:\n",
    "\ttypeloc.send_keys(i)\n",
    "\ttime.sleep(0.1)\n",
    "\ttypeloc.send_keys(Keys.END)\n",
    "\ttime.sleep(0.1)\n",
    "time.sleep(2)\n",
    "typeloc.send_keys(Keys.ENTER)\n",
    "time.sleep(3)"
   ]
  },
  {
   "cell_type": "code",
   "execution_count": 196,
   "metadata": {},
   "outputs": [],
   "source": [
    "#scroll to end of page so that all elements are visible\n",
    "calm = WebDriverWait(driver, 20).until(EC.presence_of_element_located((By.XPATH, \"//html\"))) #if elements aren't available it will return a timeout error and alert user that script must be altered\n",
    "time.sleep(3)\n",
    "lenOfPage = driver.execute_script(\"window.scrollTo(0, document.body.scrollHeight);var lenOfPage=document.body.scrollHeight;return lenOfPage;\")\n",
    "match=False\n",
    "\n",
    "while(match==False):\n",
    "\tlastCount = lenOfPage\n",
    "\ttime.sleep(3.5)\n",
    "\tlenOfPage = driver.execute_script(\"window.scrollTo(0, document.body.scrollHeight);var lenOfPage=document.body.scrollHeight;return lenOfPage;\")\n",
    "\tif lastCount==lenOfPage:\n",
    "\t\tmatch=True\n",
    "\n",
    "scroll = driver.find_element_by_xpath('//html')\n",
    "time.sleep(2)\n",
    "scroll.send_keys(Keys.HOME)\n",
    "time.sleep(2)"
   ]
  },
  {
   "cell_type": "code",
   "execution_count": 236,
   "metadata": {},
   "outputs": [],
   "source": [
    "#Open CSV Writer\n",
    "filename = paste(['axs_events_'], [now.year], ['-'], [now.month], ['-'], [now.day],['.csv'], sep='')\n",
    "filename = ''.join(filename)\n",
    "csv_file = open(filename, 'a', newline = '')\n",
    "writer = csv.writer(csv_file)\n",
    "\n",
    "#collect html tags, this will need to go inside of the nested loop function\n",
    "wait_event = WebDriverWait(driver, 10)\n",
    "events = wait_event.until(EC.presence_of_all_elements_located((By.XPATH,\n",
    "\t\t\t\t\t\t\t'//div[@class=\"results-table results-table--events\"]')))"
   ]
  },
  {
   "cell_type": "code",
   "execution_count": 232,
   "metadata": {},
   "outputs": [
    {
     "data": {
      "text/plain": [
       "'FEB\\n24\\nSAT\\nFrightened Rabbit: The Midnight Organ Fight 10th Anniversary Tour\\nMusic Hall of Williamsburg, Brooklyn NY'"
      ]
     },
     "execution_count": 232,
     "metadata": {},
     "output_type": "execute_result"
    }
   ],
   "source": [
    "events[-1].text"
   ]
  },
  {
   "cell_type": "code",
   "execution_count": 213,
   "metadata": {},
   "outputs": [
    {
     "data": {
      "text/plain": [
       "53"
      ]
     },
     "execution_count": 213,
     "metadata": {},
     "output_type": "execute_result"
    }
   ],
   "source": [
    "len(events)"
   ]
  },
  {
   "cell_type": "code",
   "execution_count": 149,
   "metadata": {},
   "outputs": [
    {
     "name": "stdout",
     "output_type": "stream",
     "text": [
      "2283\n"
     ]
    }
   ],
   "source": [
    "print(lenOfPage)"
   ]
  },
  {
   "cell_type": "code",
   "execution_count": 30,
   "metadata": {},
   "outputs": [
    {
     "name": "stdout",
     "output_type": "stream",
     "text": [
      "http://www.axs.com/events/344193/first-aid-kit-tickets\n"
     ]
    }
   ],
   "source": [
    "href = hold.get_attribute('href')\n",
    "print(href)"
   ]
  },
  {
   "cell_type": "code",
   "execution_count": 191,
   "metadata": {},
   "outputs": [],
   "source": [
    "link = events[2].find_element_by_xpath('./div/a')\n",
    "sale_url = link.get_attribute('href')\n",
    "month = events[2].find_element_by_xpath('./div/a/div[1]/div/div[1]').text\n",
    "day = events[2].find_element_by_xpath('./div/a/div[1]/div/div[2]').text\n",
    "weekday = events[2].find_element_by_xpath('./div/a/div[1]/div/div[3]').text\n",
    "performer = events[2].find_element_by_xpath('./div/a/div[2]/div[1]').text\n",
    "venue = events[2].find_element_by_xpath('./div/a/div[2]/div[2]/span[1]').text\n",
    "city = events[2].find_element_by_xpath('./div/a/div[2]/div[2]/span[2]').text"
   ]
  },
  {
   "cell_type": "code",
   "execution_count": 192,
   "metadata": {},
   "outputs": [
    {
     "data": {
      "text/plain": [
       "'Sleigh Bells'"
      ]
     },
     "execution_count": 192,
     "metadata": {},
     "output_type": "execute_result"
    }
   ],
   "source": [
    "performer"
   ]
  },
  {
   "cell_type": "code",
   "execution_count": 193,
   "metadata": {},
   "outputs": [],
   "source": [
    "driver.get(sale_url)\n",
    "new_page_wait = wait_event.until(EC.presence_of_all_elements_located((By.XPATH,\n",
    "                    '//body')))\n",
    "hour = driver.find_element_by_xpath('//section[@id=\"event-info-section\"]/div[2]/div[2]/span[1]').text\n",
    "price = driver.find_element_by_xpath('//section[@id=\"event-ticket-options\"]/div/div[2]/div').text\n",
    "time.sleep(2)\n",
    "driver.back()"
   ]
  },
  {
   "cell_type": "code",
   "execution_count": 195,
   "metadata": {},
   "outputs": [
    {
     "data": {
      "text/plain": [
       "'Price: $30.00'"
      ]
     },
     "execution_count": 195,
     "metadata": {},
     "output_type": "execute_result"
    }
   ],
   "source": [
    "price"
   ]
  },
  {
   "cell_type": "code",
   "execution_count": 386,
   "metadata": {},
   "outputs": [],
   "source": [
    "#For csv file names (testing)\n",
    "def reduce_concat(x, sep=\"\"):\n",
    "\treturn functools.reduce(lambda x, y: str(x) + sep + str(y), x)\n",
    "\t\n",
    "def paste(*lists, sep=\" \", collapse=None):\n",
    "\tresult = map(lambda x: reduce_concat(x, sep=sep), zip(*lists))\n",
    "\tif collapse is not None:\n",
    "\t\treturn reduce_concat(result, sep=collapse)\n",
    "\treturn list(result)\n",
    "\t\n",
    "def writeevents(events, writer, driver):\n",
    "\tfor i in range(38, len(events)):\n",
    "\t\t#dictionary to store event data\n",
    "\t\tevent_dict = {}\n",
    "\t\t\n",
    "\t\t#set event data equal to html elements\n",
    "\t\tlink = events[i].find_element_by_xpath('./div/a')\n",
    "\t\tsale_url = link.get_attribute('href')\n",
    "\t\tmonth = events[i].find_element_by_xpath('./div/a/div[1]/div/div[1]').text\n",
    "\t\tday = events[i].find_element_by_xpath('./div/a/div[1]/div/div[2]').text\n",
    "\t\tweekday = events[i].find_element_by_xpath('./div/a/div[1]/div/div[3]').text\n",
    "\t\tperformer = events[i].find_element_by_xpath('./div/a/div[2]/div[1]').text\n",
    "\t\tvenue = events[i].find_element_by_xpath('./div/a/div[2]/div[2]/span[1]').text\n",
    "\t\tcity = events[i].find_element_by_xpath('./div/a/div[2]/div[2]/span[2]').text\n",
    "\t\ttime.sleep(random.uniform(0.4, 0.6))\n",
    "\t\t\n",
    "\t\t#navigate to a new page for time and price\n",
    "\t\tdriver.get(sale_url)\n",
    "\t\tnew_page_wait = wait_event.until(EC.presence_of_all_elements_located((By.XPATH,\n",
    "\t\t\t\t\t\t\t'//body')))\n",
    "\t\thour = driver.find_element_by_xpath('//section[@id=\"event-info-section\"]/div[2]/div[2]/span[1]').text\n",
    "\t\tprice = driver.find_element_by_xpath('//section[@id=\"event-ticket-options\"]/div/div[2]/div').text\n",
    "\t\ttime.sleep(2)\n",
    "\t\tdriver.back()\n",
    "\t\t\n",
    "\t\t#write variables to dictionary\n",
    "\t\tevent_dict['sale_url'] = sale_url\n",
    "\t\tevent_dict['month'] = month\n",
    "\t\tevent_dict['day'] = day\n",
    "\t\tevent_dict['weekday'] = weekday\n",
    "\t\tevent_dict['performer'] = performer\n",
    "\t\tevent_dict['venue'] = venue\n",
    "\t\tevent_dict['city'] = city\n",
    "\t\tevent_dict['time'] = hour\n",
    "\t\tevent_dict['price'] = price\n",
    "\t\t\n",
    "\t\t#ensure accurate data collection\n",
    "\t\tprint(i)\n",
    "\t\ti\n",
    "\t\tprint(event_dict)\n",
    "\t\tevent_dict\n",
    "\t\t\n",
    "\t\t#write event to CSV\n",
    "\t\twriter.writerow(event_dict.values())\n",
    "\t\t\n",
    "\t\tcalm = WebDriverWait(driver, 20).until(EC.presence_of_element_located((By.XPATH, \"//html\"))) #if elements aren't available it will return a timeout error and alert user that script must be altered\n",
    "\t\ttime.sleep(3)\n",
    "\t\tlenOfPage = driver.execute_script(\"window.scrollTo(0, document.body.scrollHeight);var lenOfPage=document.body.scrollHeight;return lenOfPage;\")\n",
    "\t\tmatch=False\n",
    "\n",
    "\t\twhile(match==False):\n",
    "\t\t\tlastCount = lenOfPage\n",
    "\t\t\ttime.sleep(random.uniform(3.5,5))\n",
    "\t\t\tlenOfPage = driver.execute_script(\"window.scrollTo(0, document.body.scrollHeight);var lenOfPage=document.body.scrollHeight;return lenOfPage;\")\n",
    "\t\t\tif lastCount==lenOfPage:\n",
    "\t\t\t\tmatch=True\n",
    "                \n",
    "\t\tscrollerArg = paste([\"window.scrollTo(0, \"], [5724 * 2.5], [\");\"], sep = '')\n",
    "\t\tscrollerArg = ''.join(scrollerArg)\n",
    "\t\tscroller = driver.execute_script(scrollerArg)\n",
    "\t\t\n",
    "\t\tscrollerArg = paste([\"window.scrollTo(0, \"], [newPos], [\");\"], sep = '')\n",
    "\t\tscrollerArg = ''.join(scrollerArg)\n",
    "\t\tscroller = driver.execute_script(scrollerArg)\n",
    "\t\tevents = wait_event.until(EC.presence_of_all_elements_located((By.XPATH,\n",
    "\t\t\t\t\t'//div[@class=\"results-table results-table--events\"]')))"
   ]
  },
  {
   "cell_type": "code",
   "execution_count": 383,
   "metadata": {},
   "outputs": [],
   "source": [
    "#Open CSV Writer\n",
    "filename = paste(['axs_events_'], [now.year], ['-'], [now.month], ['-'], [now.day],['.csv'], sep='')\n",
    "filename = ''.join(filename)\n",
    "csv_file = open(filename, 'a', newline = '')\n",
    "writer = csv.writer(csv_file)\n",
    "\n",
    "#collect html tags, this will need to go inside of the nested loop function\n",
    "wait_event = WebDriverWait(driver, 10)\n",
    "events = wait_event.until(EC.presence_of_all_elements_located((By.XPATH,\n",
    "\t\t\t\t\t\t\t'//div[@class=\"results-table results-table--events\"]')))"
   ]
  },
  {
   "cell_type": "code",
   "execution_count": 384,
   "metadata": {},
   "outputs": [
    {
     "name": "stdout",
     "output_type": "stream",
     "text": [
      "Number of events: 101\n",
      "position pre-loop: 14310.0\n",
      "34\n",
      "{'sale_url': 'http://www.axs.com/events/349725/idles-tickets', 'month': 'MAR', 'day': '24', 'weekday': 'SAT', 'performer': 'IDLES', 'venue': 'Rough Trade NYC,', 'city': 'Brooklyn NY', 'time': 'Brooklyn, NY - 10:30 PM', 'price': 'Price: $10.00'}\n",
      "35\n",
      "{'sale_url': 'http://www.axs.com/events/348518/mgmt-tickets', 'month': 'MAR', 'day': '25', 'weekday': 'SUN', 'performer': 'MGMT', 'venue': 'Brooklyn Steel,', 'city': 'Brooklyn NY', 'time': 'Brooklyn, NY - 8:00 PM', 'price': 'Price: $45.00'}\n",
      "36\n",
      "{'sale_url': 'http://www.axs.com/events/349468/iris-lune-sir-cadian-rhythm-twiceyoung-tickets', 'month': 'MAR', 'day': '25', 'weekday': 'SUN', 'performer': 'Iris Lune, Sir Cadian Rhythm, Twiceyoung', 'venue': 'Rough Trade NYC,', 'city': 'Brooklyn NY', 'time': 'Brooklyn, NY - 8:00 PM', 'price': 'Price: $10.00'}\n",
      "37\n",
      "{'sale_url': 'http://www.axs.com/events/347120/k-d-lang-tickets', 'month': 'MAR', 'day': '26', 'weekday': 'MON', 'performer': 'k.d. lang', 'venue': 'Beacon Theatre,', 'city': 'New York City NY', 'time': 'New York City, NY - 7:30 PM', 'price': 'Price: $49.50 - $100.00'}\n"
     ]
    },
    {
     "ename": "IndexError",
     "evalue": "list index out of range",
     "output_type": "error",
     "traceback": [
      "\u001b[1;31m---------------------------------------------------------------------------\u001b[0m",
      "\u001b[1;31mIndexError\u001b[0m                                Traceback (most recent call last)",
      "\u001b[1;32m<ipython-input-384-330644635f16>\u001b[0m in \u001b[0;36m<module>\u001b[1;34m()\u001b[0m\n\u001b[0;32m      3\u001b[0m         \u001b[0mprint\u001b[0m\u001b[1;33m(\u001b[0m\u001b[1;34m'Number of events:'\u001b[0m\u001b[1;33m,\u001b[0m \u001b[0mlen\u001b[0m\u001b[1;33m(\u001b[0m\u001b[0mevents\u001b[0m\u001b[1;33m)\u001b[0m\u001b[1;33m)\u001b[0m\u001b[1;33m\u001b[0m\u001b[0m\n\u001b[0;32m      4\u001b[0m         \u001b[0mprint\u001b[0m\u001b[1;33m(\u001b[0m\u001b[1;34m'position pre-loop:'\u001b[0m\u001b[1;33m,\u001b[0m \u001b[0mnewPos\u001b[0m\u001b[1;33m)\u001b[0m \u001b[1;31m#for testing\u001b[0m\u001b[1;33m\u001b[0m\u001b[0m\n\u001b[1;32m----> 5\u001b[1;33m         \u001b[0mwriteevents\u001b[0m\u001b[1;33m(\u001b[0m\u001b[0mevents\u001b[0m\u001b[1;33m,\u001b[0m \u001b[0mwriter\u001b[0m\u001b[1;33m,\u001b[0m \u001b[0mdriver\u001b[0m\u001b[1;33m)\u001b[0m\u001b[1;33m\u001b[0m\u001b[0m\n\u001b[0m\u001b[0;32m      6\u001b[0m         \u001b[0moffprep\u001b[0m \u001b[1;33m=\u001b[0m \u001b[0mpaste\u001b[0m\u001b[1;33m(\u001b[0m\u001b[1;33m[\u001b[0m\u001b[1;34m\"var offprep = window.screen.height * \"\u001b[0m\u001b[1;33m]\u001b[0m\u001b[1;33m,\u001b[0m \u001b[1;33m[\u001b[0m\u001b[1;33m(\u001b[0m\u001b[0mlen\u001b[0m\u001b[1;33m(\u001b[0m\u001b[0mevents\u001b[0m\u001b[1;33m)\u001b[0m\u001b[1;33m)\u001b[0m\u001b[1;33m/\u001b[0m\u001b[1;36m8\u001b[0m\u001b[1;33m]\u001b[0m\u001b[1;33m,\u001b[0m \u001b[1;33m[\u001b[0m\u001b[1;34m\";return offprep\"\u001b[0m\u001b[1;33m]\u001b[0m\u001b[1;33m,\u001b[0m \u001b[0msep\u001b[0m\u001b[1;33m=\u001b[0m\u001b[1;34m''\u001b[0m\u001b[1;33m)\u001b[0m \u001b[1;31m#7 fit on a page, giving myself room for error\u001b[0m\u001b[1;33m\u001b[0m\u001b[0m\n\u001b[0;32m      7\u001b[0m         \u001b[0moffprep\u001b[0m \u001b[1;33m=\u001b[0m \u001b[1;34m''\u001b[0m\u001b[1;33m.\u001b[0m\u001b[0mjoin\u001b[0m\u001b[1;33m(\u001b[0m\u001b[0moffprep\u001b[0m\u001b[1;33m)\u001b[0m\u001b[1;33m\u001b[0m\u001b[0m\n",
      "\u001b[1;32m<ipython-input-382-f9f5b2a30489>\u001b[0m in \u001b[0;36mwriteevents\u001b[1;34m(events, writer, driver)\u001b[0m\n\u001b[0;32m     15\u001b[0m \u001b[1;33m\u001b[0m\u001b[0m\n\u001b[0;32m     16\u001b[0m                 \u001b[1;31m#set event data equal to html elements\u001b[0m\u001b[1;33m\u001b[0m\u001b[1;33m\u001b[0m\u001b[0m\n\u001b[1;32m---> 17\u001b[1;33m                 \u001b[0mlink\u001b[0m \u001b[1;33m=\u001b[0m \u001b[0mevents\u001b[0m\u001b[1;33m[\u001b[0m\u001b[0mi\u001b[0m\u001b[1;33m]\u001b[0m\u001b[1;33m.\u001b[0m\u001b[0mfind_element_by_xpath\u001b[0m\u001b[1;33m(\u001b[0m\u001b[1;34m'./div/a'\u001b[0m\u001b[1;33m)\u001b[0m\u001b[1;33m\u001b[0m\u001b[0m\n\u001b[0m\u001b[0;32m     18\u001b[0m                 \u001b[0msale_url\u001b[0m \u001b[1;33m=\u001b[0m \u001b[0mlink\u001b[0m\u001b[1;33m.\u001b[0m\u001b[0mget_attribute\u001b[0m\u001b[1;33m(\u001b[0m\u001b[1;34m'href'\u001b[0m\u001b[1;33m)\u001b[0m\u001b[1;33m\u001b[0m\u001b[0m\n\u001b[0;32m     19\u001b[0m                 \u001b[0mmonth\u001b[0m \u001b[1;33m=\u001b[0m \u001b[0mevents\u001b[0m\u001b[1;33m[\u001b[0m\u001b[0mi\u001b[0m\u001b[1;33m]\u001b[0m\u001b[1;33m.\u001b[0m\u001b[0mfind_element_by_xpath\u001b[0m\u001b[1;33m(\u001b[0m\u001b[1;34m'./div/a/div[1]/div/div[1]'\u001b[0m\u001b[1;33m)\u001b[0m\u001b[1;33m.\u001b[0m\u001b[0mtext\u001b[0m\u001b[1;33m\u001b[0m\u001b[0m\n",
      "\u001b[1;31mIndexError\u001b[0m: list index out of range"
     ]
    }
   ],
   "source": [
    "newPos = 5724 * 2.5\n",
    "while (newPos <= lenOfPage):\n",
    "\tprint('Number of events:', len(events))\n",
    "\tprint('position pre-loop:', newPos) #for testing\n",
    "\twriteevents(events, writer, driver)\n",
    "\toffprep = paste([\"var offprep = window.screen.height * \"], [(len(events))/8], [\";return offprep\"], sep='') #7 fit on a page, giving myself room for error\n",
    "\toffprep = ''.join(offprep)\n",
    "\toffset = driver.execute_script(offprep)\n",
    "\tnewPos = newPos + offset\n",
    "\tscrollerArg = paste([\"window.scrollTo(0, \"], [newPos], [\");\"], sep = '')\n",
    "\tscrollerArg = ''.join(scrollerArg)\n",
    "\tscroller = driver.execute_script(scrollerArg)\n",
    "\tprint(newPos)\n",
    "\tevents = wait_event.until(EC.presence_of_all_elements_located((By.XPATH,\n",
    "\t\t\t\t'//div[@class=\"results-table results-table--events\"]')))\n",
    "\tprint('Number of events:', len(events)) #testing\n",
    "\tprint('current position:', newPos) #testing\n",
    "print('Complete.')\n",
    "csv_file.close()\n",
    "driver.close()"
   ]
  },
  {
   "cell_type": "code",
   "execution_count": 385,
   "metadata": {},
   "outputs": [],
   "source": [
    "csv_file.close()"
   ]
  },
  {
   "cell_type": "code",
   "execution_count": 381,
   "metadata": {},
   "outputs": [
    {
     "name": "stdout",
     "output_type": "stream",
     "text": [
      "14310.0\n"
     ]
    }
   ],
   "source": [
    "scrollerArg = paste([\"window.scrollTo(0, \"], [5724*2.5], [\");\"], sep = '')\n",
    "scrollerArg = ''.join(scrollerArg)\n",
    "scroller = driver.execute_script(scrollerArg)\n",
    "position = 5724*2.5\n",
    "print(position)"
   ]
  },
  {
   "cell_type": "code",
   "execution_count": 375,
   "metadata": {},
   "outputs": [
    {
     "name": "stdout",
     "output_type": "stream",
     "text": [
      "http://www.axs.com/events/344193/first-aid-kit-tickets,FEB,13,TUE,First Aid Kit,\"Beacon Theatre,\",New York City NY,\"New York City, NY - 8:00 PM\",Price: $35.00 - $55.00\n",
      "http://www.axs.com/events/344277/sleigh-bells-tickets,FEB,13,TUE,Sleigh Bells,\"Brooklyn Steel,\",Brooklyn NY,\"Brooklyn, NY - 8:00 PM\",Price: $30.00\n",
      "http://www.axs.com/events/345296/all-for-the-hall-tickets,FEB,13,TUE,All For The Hall,\"PlayStation Theater,\",New York NY,\"New York, NY - 8:30 PM\",\n",
      "http://www.axs.com/events/343634/robert-plant-the-sensational-space-shifters-tickets,FEB,14,WED,Robert Plant & The Sensational Space Shifters,\"Beacon Theatre,\",New York City NY,\"New York City, NY - 8:00 PM\",Price: $63.75 - $129.25\n",
      "http://www.axs.com/events/348473/village-of-love-tickets,FEB,14,WED,Village of Love,\"Music Hall of Williamsburg,\",Brooklyn NY,\"Brooklyn, NY - 8:00 PM\",Price: $20.00\n",
      "http://www.axs.com/events/343607/august-burns-red-tickets,FEB,15,THU,August Burns Red,\"Starland Ballroom,\",Sayreville NJ,\"Sayreville, NJ - 6:30 PM\",Price: $23.00\n",
      "http://www.axs.com/events/342711/an-evening-with-noel-gallagher-s-high-flying-birds-tickets,FEB,15,THU,An Evening with Noel Gallagher's High Flying Birds,\"Radio City Music Hall,\",New York City NY,\"New York City, NY - 8:00 PM\",\n",
      "http://www.axs.com/events/344075/borns-tickets,FEB,15,THU,BØRNS,\"Brooklyn Steel,\",Brooklyn NY,\"Brooklyn, NY - 8:00 PM\",Price: $36.00\n",
      "http://www.axs.com/events/346552/dirty-fences-tickets,FEB,15,THU,Dirty Fences,\"Rough Trade NYC,\",Brooklyn NY,\"Brooklyn, NY - 9:00 PM\",Price: $10.00\n",
      "http://www.axs.com/events/344561/marilyn-manson-tickets,FEB,16,FRI,Marilyn Manson,\"Starland Ballroom,\",Sayreville NJ,\"Sayreville, NJ - 7:00 PM\",Price: $59.75 - $395.00\n",
      "http://www.axs.com/events/344076/borns-tickets,FEB,16,FRI,BØRNS,\"Terminal 5,\",New York NY,\"New York, NY - 8:00 PM\",Price: $36.00\n",
      "http://www.axs.com/events/346094/x-ambassadors-tickets,FEB,16,FRI,X Ambassadors,\"Brooklyn Steel,\",Brooklyn NY,\"Brooklyn, NY - 8:00 PM\",Price: $35.00\n",
      "http://www.axs.com/events/345428/two-feet-tickets,FEB,16,FRI,Two Feet,\"Music Hall of Williamsburg,\",Brooklyn NY,\"Brooklyn, NY - 9:00 PM\",Price: $17.00\n",
      "http://www.axs.com/events/346682/ganja-white-night-tickets,FEB,16,FRI,Ganja White Night,\"PlayStation Theater,\",New York NY,\"New York, NY - 9:00 PM\",\n",
      "http://www.axs.com/events/347650/starcrawler-tickets,FEB,16,FRI,Starcrawler,\"Rough Trade NYC,\",Brooklyn NY,\"Brooklyn, NY - 9:00 PM\",Price: $12.00\n",
      "http://www.axs.com/events/346015/pvris-tickets,FEB,17,SAT,PVRIS,\"Starland Ballroom,\",Sayreville NJ,\"Sayreville, NJ - 7:00 PM\",Price: $27.50 - $99.00\n",
      "http://www.axs.com/events/342665/architects-tickets,FEB,17,SAT,Architects,\"PlayStation Theater,\",New York NY,\"New York, NY - 8:00 PM\",\n",
      "http://www.axs.com/events/345040/frightened-rabbit-the-midnight-organ-fight-10th-anniversary-tour-tickets,FEB,24,SAT,Frightened Rabbit: The Midnight Organ Fight 10th Anniversary Tour,\"Music Hall of Williamsburg,\",Brooklyn NY,\"Brooklyn, NY - 9:00 PM\",Price: $35.00\n",
      "http://www.axs.com/events/346741/railroad-earth-tickets,FEB,17,SAT,Railroad Earth,\"The Capitol Theatre,\",Port Chester NY,\"Port Chester, NY - 8:00 PM\",Price: $25.00 - $35.00\n",
      "http://www.axs.com/events/346741/railroad-earth-tickets,FEB,17,SAT,Railroad Earth,\"The Capitol Theatre,\",Port Chester NY,\"Port Chester, NY - 8:00 PM\",Price: $25.00 - $35.00\n",
      "http://www.axs.com/events/348113/medasin-tickets,FEB,17,SAT,Medasin,\"Rough Trade NYC,\",Brooklyn NY,\"Brooklyn, NY - 8:30 PM\",Price: $15.00\n",
      "http://www.axs.com/events/346666/3lau-tickets,FEB,17,SAT,3LAU,\"Terminal 5,\",New York NY,\"New York, NY - 9:00 PM\",Price: $25.00 - $35.00\n",
      "http://www.axs.com/events/347867/now-now-tickets,FEB,17,SAT,\"Now, Now\",\"Music Hall of Williamsburg,\",Brooklyn NY,\"Brooklyn, NY - 9:00 PM\",\n",
      "http://www.axs.com/events/346263/less-than-jake-four-year-strong-tickets,FEB,18,SUN,Less Than Jake & Four Year Strong,\"Starland Ballroom,\",Sayreville NJ,\"Sayreville, NJ - 6:30 PM\",Price: $22.50\n",
      "http://www.axs.com/events/349241/elton-john-tickets,FEB,18,SUN,Elton John,\"NYCB LIVE, Home of The Nassau Veterans Memorial Coliseum,\",Long Island NY,\"Long Island, NY - 8:00 PM\",\"ON SALE Feb 16, 2018 - 10:00 AM\"\n",
      "http://www.axs.com/events/349346/tet-yeu-thuong-2018-tickets,FEB,18,SUN,Tet Yeu Thuong 2018,\"Rough Trade NYC,\",Brooklyn NY,\"Brooklyn, NY - 8:00 PM\",Starting from: $15.00\n",
      "http://www.axs.com/events/345776/tedeschi-trucks-band-tickets,FEB,20,TUE,Tedeschi Trucks Band,\"The Capitol Theatre,\",Port Chester NY,\"Port Chester, NY - 8:00 PM\",Price: $55.00 - $95.00\n",
      "http://www.axs.com/events/347286/88rising-double-happiness-rich-brian-joji-keith-ape-higher-brothers-tickets,FEB,20,TUE,\"88rising Double Happiness: Rich Brian, Joji, Keith Ape, & Higher Brothers\",\"Terminal 5,\",New York NY,\"New York, NY - 8:00 PM\",Price: $32.50\n",
      "http://www.axs.com/events/349871/portugal-the-man-tickets,FEB,20,TUE,Portugal. The Man,\"Brooklyn Steel,\",Brooklyn NY,\"Brooklyn, NY - 8:00 PM\",Price: $50.00\n",
      "http://www.axs.com/events/345648/tyler-childers-tickets,FEB,20,TUE,Tyler Childers,\"Music Hall of Williamsburg,\",Brooklyn NY,\"Brooklyn, NY - 9:00 PM\",Price: $20.00\n",
      "http://www.axs.com/events/343886/idan-raichel-tickets,FEB,21,WED,Idan Raichel,\"Beacon Theatre,\",New York City NY,\"New York City, NY - 8:00 PM\",Price: $39.50 - $99.50\n",
      "http://www.axs.com/events/345593/billy-joel-in-concert-tickets,FEB,21,WED,Billy Joel - In Concert,\"Madison Square Garden,\",New York City NY,\"New York City, NY - 8:00 PM\",\n",
      "http://www.axs.com/events/345778/tedeschi-trucks-band-tickets,FEB,21,WED,Tedeschi Trucks Band,\"The Capitol Theatre,\",Port Chester NY,\"Port Chester, NY - 8:00 PM\",Price: $55.00 - $95.00\n",
      "http://www.axs.com/events/345702/dvsn-tickets,FEB,21,WED,DVSN,\"Terminal 5,\",New York NY,\"New York, NY - 9:00 PM\",Price: $32.50\n",
      "http://www.axs.com/events/346824/amber-mark-tickets,FEB,21,WED,Amber Mark,\"Rough Trade NYC,\",Brooklyn NY,\"Brooklyn, NY - 9:00 PM\",Price: $15.00\n",
      "http://www.axs.com/events/343069/strfkr-tickets,FEB,22,THU,STRFKR,\"Brooklyn Steel,\",Brooklyn NY,\"Brooklyn, NY - 8:00 PM\",Price: $27.50\n",
      "http://www.axs.com/events/343332/little-big-town-tickets,FEB,24,SAT,Little Big Town,\"Radio City Music Hall,\",New York City NY,\"New York City, NY\",\n",
      "http://www.axs.com/events/346627/tyler-the-creator-tickets,FEB,24,SAT,\"Tyler, The Creator\",\"The Theater at Madison Square Garden,\",New York NY,\"New York, NY - 7:30 PM\",\n",
      "http://www.axs.com/events/344316/bananarama-tickets,FEB,24,SAT,Bananarama,\"PlayStation Theater,\",New York NY,\"New York, NY - 8:00 PM\",\n",
      "http://www.axs.com/events/344871/lane-8-little-by-little-tour-tickets,FEB,24,SAT,Lane 8: Little By Little Tour,\"Brooklyn Steel,\",Brooklyn NY,\"Brooklyn, NY - 8:00 PM\",Price: $25.00\n",
      "http://www.axs.com/events/346416/freestyle-explosion-winter-edition-tickets,FEB,24,SAT,Freestyle Explosion Winter Edition,\"Starland Ballroom,\",Sayreville NJ,\"Sayreville, NJ - 8:00 PM\",Price: $35.00 - $150.00\n",
      "http://www.axs.com/events/346742/diana-krall-tickets,FEB,24,SAT,Diana Krall,\"The Capitol Theatre,\",Port Chester NY,\"Port Chester, NY - 8:00 PM\",Price: $65.00 - $125.00\n",
      "http://www.axs.com/events/347286/88rising-double-happiness-rich-brian-joji-keith-ape-higher-brothers-tickets,FEB,20,TUE,\"88rising Double Happiness: Rich Brian, Joji, Keith Ape, & Higher Brothers\",\"Terminal 5,\",New York NY,\"New York, NY - 8:00 PM\",Price: $32.50\n",
      "http://www.axs.com/events/349871/portugal-the-man-tickets,FEB,20,TUE,Portugal. The Man,\"Brooklyn Steel,\",Brooklyn NY,\"Brooklyn, NY - 8:00 PM\",Price: $50.00\n",
      "http://www.axs.com/events/345648/tyler-childers-tickets,FEB,20,TUE,Tyler Childers,\"Music Hall of Williamsburg,\",Brooklyn NY,\"Brooklyn, NY - 9:00 PM\",Price: $20.00\n",
      "http://www.axs.com/events/343886/idan-raichel-tickets,FEB,21,WED,Idan Raichel,\"Beacon Theatre,\",New York City NY,\"New York City, NY - 8:00 PM\",Price: $39.50 - $99.50\n",
      "http://www.axs.com/events/345593/billy-joel-in-concert-tickets,FEB,21,WED,Billy Joel - In Concert,\"Madison Square Garden,\",New York City NY,\"New York City, NY - 8:00 PM\",\n",
      "http://www.axs.com/events/345778/tedeschi-trucks-band-tickets,FEB,21,WED,Tedeschi Trucks Band,\"The Capitol Theatre,\",Port Chester NY,\"Port Chester, NY - 8:00 PM\",Price: $55.00 - $95.00\n",
      "http://www.axs.com/events/345702/dvsn-tickets,FEB,21,WED,DVSN,\"Terminal 5,\",New York NY,\"New York, NY - 9:00 PM\",Price: $32.50\n",
      "http://www.axs.com/events/346824/amber-mark-tickets,FEB,21,WED,Amber Mark,\"Rough Trade NYC,\",Brooklyn NY,\"Brooklyn, NY - 9:00 PM\",Price: $15.00\n",
      "http://www.axs.com/events/343069/strfkr-tickets,FEB,22,THU,STRFKR,\"Brooklyn Steel,\",Brooklyn NY,\"Brooklyn, NY - 8:00 PM\",Price: $27.50\n",
      "http://www.axs.com/events/345925/awolnation-tickets,FEB,22,THU,AWOLNATION,\"Terminal 5,\",New York NY,\"New York, NY - 8:00 PM\",Starting from: $31.25\n",
      "http://www.axs.com/events/348616/damian-jr-gong-marley-tickets,FEB,22,THU,\"Damian \"\"Jr. Gong\"\" Marley\",\"PlayStation Theater,\",New York NY,\"New York, NY - 8:00 PM\",\n",
      "http://www.axs.com/events/346468/stelouse-tickets,FEB,22,THU,StéLouse,\"Rough Trade NYC,\",Brooklyn NY,\"Brooklyn, NY - 9:00 PM\",Price: $12.00\n",
      "http://www.axs.com/events/348077/phoebe-bridgers-tickets,FEB,22,THU,Phoebe Bridgers,\"Music Hall of Williamsburg,\",Brooklyn NY,\"Brooklyn, NY - 9:00 PM\",Price: $15.00\n",
      "http://www.axs.com/events/346429/tyler-the-creator-tickets,FEB,23,FRI,\"Tyler, The Creator\",\"The Theater at Madison Square Garden,\",New York NY,\"New York, NY - 7:30 PM\",\n",
      "http://www.axs.com/events/343013/lila-downs-tickets,FEB,23,FRI,Lila Downs,\"PlayStation Theater,\",New York NY,\"New York, NY - 8:00 PM\",Price: $45.00 - $59.50\n",
      "http://www.axs.com/events/345180/city-of-the-sun-tickets,FEB,23,FRI,City of the Sun,\"Brooklyn Steel,\",Brooklyn NY,\"Brooklyn, NY - 8:00 PM\",Price: $17.50\n",
      "http://www.axs.com/events/347639/scarlet-sails-tickets,FEB,23,FRI,Scarlet Sails,\"Rough Trade NYC,\",Brooklyn NY,\"Brooklyn, NY - 8:30 PM\",Price: $10.00\n",
      "http://www.axs.com/events/345825/don-diablo-tickets,FEB,23,FRI,Don Diablo,\"Terminal 5,\",New York NY,\"New York, NY - 9:00 PM\",\n",
      "http://www.axs.com/events/347582/phoebe-bridgers-tickets,FEB,23,FRI,Phoebe Bridgers,\"Music Hall of Williamsburg,\",Brooklyn NY,\"Brooklyn, NY - 9:00 PM\",Price: $15.00\n",
      "http://www.axs.com/events/345925/awolnation-tickets,FEB,22,THU,AWOLNATION,\"Terminal 5,\",New York NY,\"New York, NY - 8:00 PM\",Starting from: $31.25\n",
      "http://www.axs.com/events/348616/damian-jr-gong-marley-tickets,FEB,22,THU,\"Damian \"\"Jr. Gong\"\" Marley\",\"PlayStation Theater,\",New York NY,\"New York, NY - 8:00 PM\",\n",
      "http://www.axs.com/events/346468/stelouse-tickets,FEB,22,THU,StéLouse,\"Rough Trade NYC,\",Brooklyn NY,\"Brooklyn, NY - 9:00 PM\",Price: $12.00\n",
      "http://www.axs.com/events/348077/phoebe-bridgers-tickets,FEB,22,THU,Phoebe Bridgers,\"Music Hall of Williamsburg,\",Brooklyn NY,\"Brooklyn, NY - 9:00 PM\",Price: $15.00\n",
      "http://www.axs.com/events/346429/tyler-the-creator-tickets,FEB,23,FRI,\"Tyler, The Creator\",\"The Theater at Madison Square Garden,\",New York NY,\"New York, NY - 7:30 PM\",\n",
      "http://www.axs.com/events/343013/lila-downs-tickets,FEB,23,FRI,Lila Downs,\"PlayStation Theater,\",New York NY,\"New York, NY - 8:00 PM\",Price: $45.00 - $59.50\n",
      "http://www.axs.com/events/345180/city-of-the-sun-tickets,FEB,23,FRI,City of the Sun,\"Brooklyn Steel,\",Brooklyn NY,\"Brooklyn, NY - 8:00 PM\",Price: $17.50\n",
      "http://www.axs.com/events/347639/scarlet-sails-tickets,FEB,23,FRI,Scarlet Sails,\"Rough Trade NYC,\",Brooklyn NY,\"Brooklyn, NY - 8:30 PM\",Price: $10.00\n",
      "http://www.axs.com/events/345825/don-diablo-tickets,FEB,23,FRI,Don Diablo,\"Terminal 5,\",New York NY,\"New York, NY - 9:00 PM\",\n",
      "http://www.axs.com/events/347582/phoebe-bridgers-tickets,FEB,23,FRI,Phoebe Bridgers,\"Music Hall of Williamsburg,\",Brooklyn NY,\"Brooklyn, NY - 9:00 PM\",Price: $15.00\n",
      "http://www.axs.com/events/343332/little-big-town-tickets,FEB,24,SAT,Little Big Town,\"Radio City Music Hall,\",New York City NY,\"New York City, NY\",\n",
      "http://www.axs.com/events/346627/tyler-the-creator-tickets,FEB,24,SAT,\"Tyler, The Creator\",\"The Theater at Madison Square Garden,\",New York NY,\"New York, NY - 7:30 PM\",\n",
      "http://www.axs.com/events/344316/bananarama-tickets,FEB,24,SAT,Bananarama,\"PlayStation Theater,\",New York NY,\"New York, NY - 8:00 PM\",\n",
      "http://www.axs.com/events/344871/lane-8-little-by-little-tour-tickets,FEB,24,SAT,Lane 8: Little By Little Tour,\"Brooklyn Steel,\",Brooklyn NY,\"Brooklyn, NY - 8:00 PM\",Price: $25.00\n",
      "http://www.axs.com/events/346416/freestyle-explosion-winter-edition-tickets,FEB,24,SAT,Freestyle Explosion Winter Edition,\"Starland Ballroom,\",Sayreville NJ,\"Sayreville, NJ - 8:00 PM\",Price: $35.00 - $150.00\n",
      "http://www.axs.com/events/346742/diana-krall-tickets,FEB,24,SAT,Diana Krall,\"The Capitol Theatre,\",Port Chester NY,\"Port Chester, NY - 8:00 PM\",Price: $65.00 - $125.00\n",
      "http://www.axs.com/events/345040/frightened-rabbit-the-midnight-organ-fight-10th-anniversary-tour-tickets,FEB,24,SAT,Frightened Rabbit: The Midnight Organ Fight 10th Anniversary Tour,\"Music Hall of Williamsburg,\",Brooklyn NY,\"Brooklyn, NY - 9:00 PM\",Price: $35.00\n",
      "http://www.axs.com/events/346093/lp-tickets,MAR,1,THU,LP,\"Brooklyn Steel,\",Brooklyn NY,\"Brooklyn, NY - 8:30 PM\",Price: $22.00\n",
      "http://www.axs.com/events/347575/rann-mobile-steam-unit-tickets,FEB,24,SAT,\"RANN, Mobile Steam Unit\",\"Rough Trade NYC,\",Brooklyn NY,\"Brooklyn, NY - 9:00 PM\",Price: $10.00\n",
      "http://www.axs.com/events/349802/24k-tickets,FEB,25,SUN,24K,\"Music Hall of Williamsburg,\",Brooklyn NY,\"Brooklyn, NY - 7:00 PM\",Starting from: $79.00\n",
      "http://www.axs.com/events/348176/jawbreaker-tickets,FEB,26,MON,Jawbreaker,\"Brooklyn Steel,\",Brooklyn NY,\"Brooklyn, NY - 8:00 PM\",Price: $39.50\n",
      "http://www.axs.com/events/347494/joan-as-police-woman-damned-devotion-release-show-tickets,FEB,26,MON,Joan as Police Woman 'Damned Devotion' Release Show,\"Rough Trade NYC,\",Brooklyn NY,\"Brooklyn, NY - 8:30 PM\",Price: $15.00\n",
      "http://www.axs.com/events/348177/jawbreaker-tickets,FEB,27,TUE,Jawbreaker,\"Brooklyn Steel,\",Brooklyn NY,\"Brooklyn, NY - 8:00 PM\",Price: $39.50\n",
      "http://www.axs.com/events/348178/jawbreaker-tickets,FEB,28,WED,Jawbreaker,\"Brooklyn Steel,\",Brooklyn NY,\"Brooklyn, NY - 8:00 PM\",Price: $39.50\n",
      "http://www.axs.com/events/348250/injury-reserve-tickets,FEB,28,WED,Injury Reserve,\"Rough Trade NYC,\",Brooklyn NY,\"Brooklyn, NY - 9:00 PM\",Price: $13.00\n",
      "http://www.axs.com/events/347668/soja-tickets,MAR,1,THU,SOJA,\"The Capitol Theatre,\",Port Chester NY,\"Port Chester, NY - 8:00 PM\",Price: $25.00 - $35.00\n",
      "http://www.axs.com/events/346093/lp-tickets,MAR,1,THU,LP,\"Brooklyn Steel,\",Brooklyn NY,\"Brooklyn, NY - 8:30 PM\",Price: $22.00\n",
      "http://www.axs.com/events/346764/gus-dapperton-tickets,MAR,1,THU,Gus Dapperton,\"Rough Trade NYC,\",Brooklyn NY,\"Brooklyn, NY - 9:00 PM\",Price: $15.00\n",
      "http://www.axs.com/events/348136/the-presets-tickets,MAR,1,THU,The Presets,\"Music Hall of Williamsburg,\",Brooklyn NY,\"Brooklyn, NY - 9:00 PM\",Price: $25.00\n",
      "http://www.axs.com/events/344925/rhye-tickets,MAR,2,FRI,Rhye,\"Brooklyn Steel,\",Brooklyn NY,\"Brooklyn, NY - 8:00 PM\",Price: $38.00\n",
      "http://www.axs.com/events/347645/lucy-dacus-tickets,MAR,2,FRI,Lucy Dacus,\"Music Hall of Williamsburg,\",Brooklyn NY,\"Brooklyn, NY - 9:00 PM\",Price: $15.00\n",
      "http://www.axs.com/events/347565/jeezy-tickets,MAR,2,FRI,Jeezy,\"PlayStation Theater,\",New York NY,\"New York, NY - 8:00 PM\",\n",
      "http://www.axs.com/events/347656/melvin-seals-jgb-tickets,MAR,2,FRI,Melvin Seals & JGB,\"The Capitol Theatre,\",Port Chester NY,\"Port Chester, NY - 8:00 PM\",Price: $25.00 - $35.00\n",
      "http://www.axs.com/events/345922/shallou-tickets,MAR,2,FRI,shallou,\"Rough Trade NYC,\",Brooklyn NY,\"Brooklyn, NY - 9:00 PM\",Price: $12.00\n",
      "http://www.axs.com/events/347645/lucy-dacus-tickets,MAR,2,FRI,Lucy Dacus,\"Music Hall of Williamsburg,\",Brooklyn NY,\"Brooklyn, NY - 9:00 PM\",Price: $15.00\n",
      "http://www.axs.com/events/344190/excision-tickets,MAR,2,FRI,Excision,\"Terminal 5,\",New York NY,\"New York, NY - 10:00 PM\",\n",
      "http://www.axs.com/events/347530/motionless-in-white-the-graveyard-shift-north-american-tour-tickets,MAR,3,SAT,Motionless In White: The Graveyard Shift North American Tour,\"Starland Ballroom,\",Sayreville NJ,\"Sayreville, NJ - 6:00 PM\",Price: $24.00\n",
      "http://www.axs.com/events/345529/andrew-bird-tickets,MAR,3,SAT,Andrew Bird,\"The Capitol Theatre,\",Port Chester NY,\"Port Chester, NY - 8:00 PM\",Price: $36.00 - $56.00\n",
      "http://www.axs.com/events/347484/kolars-escondido-tickets,MAR,3,SAT,KOLARS / Escondido,\"Rough Trade NYC,\",Brooklyn NY,\"Brooklyn, NY - 8:30 PM\",Price: $15.00\n",
      "http://www.axs.com/events/345177/hippie-sabotage-tickets,MAR,3,SAT,Hippie Sabotage,\"Brooklyn Steel,\",Brooklyn NY,\"Brooklyn, NY - 9:00 PM\",Price: $25.00 - $50.00\n",
      "http://www.axs.com/events/344191/excision-tickets,MAR,3,SAT,Excision,\"Terminal 5,\",New York NY,\"New York, NY - 10:00 PM\",\n",
      "http://www.axs.com/events/340764/shed-seven-tickets,MAR,5,MON,Shed Seven,\"Rough Trade NYC,\",Brooklyn NY,\"Brooklyn, NY - 9:00 PM\",Price: $25.00\n",
      "http://www.axs.com/events/347417/lola-marsh-tickets,MAR,6,TUE,Lola Marsh,\"Rough Trade NYC,\",Brooklyn NY,\"Brooklyn, NY - 9:00 PM\",Price: $15.00\n",
      "http://www.axs.com/events/349889/elvis-costello-the-imposters-tickets,MAR,7,WED,Elvis Costello & The Imposters,\"Brooklyn Steel,\",Brooklyn NY,\"Brooklyn, NY - 8:00 PM\",Price: $75.00\n",
      "http://www.axs.com/events/346220/bruno-major-tickets,MAR,7,WED,Bruno Major,\"Rough Trade NYC,\",Brooklyn NY,\"Brooklyn, NY - 9:00 PM\",Price: $15.00\n",
      "http://www.axs.com/events/347078/jonathan-wilson-tickets,MAR,7,WED,Jonathan Wilson,\"Music Hall of Williamsburg,\",Brooklyn NY,\"Brooklyn, NY - 9:00 PM\",Price: $25.00\n",
      "http://www.axs.com/events/349864/nathaniel-rateliff-the-night-sweats-tickets,MAR,8,THU,Nathaniel Rateliff & The Night Sweats,\"Apollo Theater,\",New York City NY,\"New York City, NY - 8:00 PM\",Price: $30.00 - $49.50\n",
      "http://www.axs.com/events/349890/elvis-costello-the-imposters-tickets,MAR,8,THU,Elvis Costello & The Imposters,\"The Capitol Theatre,\",Port Chester NY,\"Port Chester, NY - 8:00 PM\",Price: $55.00 - $150.00\n",
      "http://www.axs.com/events/344925/rhye-tickets,MAR,2,FRI,Rhye,\"Brooklyn Steel,\",Brooklyn NY,\"Brooklyn, NY - 8:00 PM\",Price: $38.00\n",
      "http://www.axs.com/events/344938/nada-surf-tickets,MAR,8,THU,Nada Surf,\"Brooklyn Steel,\",Brooklyn NY,\"Brooklyn, NY - 9:00 PM\",Price: $27.50\n",
      "http://www.axs.com/events/348293/papooz-tickets,MAR,8,THU,Papooz,\"Rough Trade NYC,\",Brooklyn NY,\"Brooklyn, NY - 9:00 PM\",Price: $15.00\n",
      "http://www.axs.com/events/347012/pat-green-eli-young-band-tickets,MAR,9,FRI,Pat Green / Eli Young Band,\"Terminal 5,\",New York NY,\"New York, NY - 7:00 PM\",Price: $35.00\n",
      "http://www.axs.com/events/347440/tyler-farr-tickets,MAR,9,FRI,Tyler Farr,\"Starland Ballroom,\",Sayreville NJ,\"Sayreville, NJ - 7:00 PM\",Price: $25.00\n",
      "http://www.axs.com/events/349891/elvis-costello-the-imposters-tickets,MAR,9,FRI,Elvis Costello & The Imposters,\"The Capitol Theatre,\",Port Chester NY,\"Port Chester, NY - 8:00 PM\",Price: $55.00 - $150.00\n",
      "http://www.axs.com/events/344869/tune-yards-tickets,MAR,9,FRI,Tune-Yards,\"Brooklyn Steel,\",Brooklyn NY,\"Brooklyn, NY - 9:00 PM\",Price: $31.00\n",
      "http://www.axs.com/events/347573/ella-vos-tickets,MAR,9,FRI,Ella Vos,\"Rough Trade NYC,\",Brooklyn NY,\"Brooklyn, NY - 9:00 PM\",Price: $15.00\n",
      "http://www.axs.com/events/349582/craig-david-presents-ts5-tickets,MAR,9,FRI,Craig David Presents TS5,\"Music Hall of Williamsburg,\",Brooklyn NY,\"Brooklyn, NY - 9:00 PM\",Price: $30.00\n",
      "http://www.axs.com/events/347280/nyc-winter-wine-festival-tickets,MAR,10,SAT,NYC Winter Wine Festival,\"PlayStation Theater,\",New York NY,\"New York, NY - 3:00 PM\",\n",
      "http://www.axs.com/events/343112/omd-tickets,MAR,10,SAT,OMD,\"Terminal 5,\",New York NY,\"New York, NY - 8:00 PM\",Price: $35.00\n",
      "http://www.axs.com/events/348141/jj-grey-mofro-tickets,MAR,10,SAT,JJ Grey & Mofro,\"The Capitol Theatre,\",Port Chester NY,\"Port Chester, NY - 8:00 PM\",Price: $27.50 - $40.00\n",
      "http://www.axs.com/events/348292/mike-gordon-tickets,MAR,10,SAT,Mike Gordon,\"Brooklyn Steel,\",Brooklyn NY,\"Brooklyn, NY - 8:00 PM\",Price: $30.00\n",
      "http://www.axs.com/events/347724/alex-cameron-tickets,MAR,10,SAT,Alex Cameron,\"Music Hall of Williamsburg,\",Brooklyn NY,\"Brooklyn, NY - 9:00 PM\",Price: $15.00\n",
      "http://www.axs.com/events/348317/adrian-daniel-tickets,MAR,10,SAT,Adrian Daniel,\"Rough Trade NYC,\",Brooklyn NY,\"Brooklyn, NY - 9:00 PM\",Price: $15.00\n",
      "http://www.axs.com/events/346839/senses-fail-tickets,MAR,11,SUN,Senses Fail,\"Music Hall of Williamsburg,\",Brooklyn NY,\"Brooklyn, NY - 7:00 PM\",Price: $22.00\n",
      "http://www.axs.com/events/345369/godspeed-you-black-emperor-tickets,MAR,12,MON,Godspeed You! Black Emperor,\"Brooklyn Steel,\",Brooklyn NY,\"Brooklyn, NY - 8:00 PM\",Price: $35.00\n",
      "http://www.axs.com/events/349183/alex-cameron-tickets,MAR,12,MON,Alex Cameron,\"Music Hall of Williamsburg,\",Brooklyn NY,\"Brooklyn, NY - 9:00 PM\",Price: $15.00\n",
      "http://www.axs.com/events/345370/godspeed-you-black-emperor-tickets,MAR,13,TUE,Godspeed You! Black Emperor,\"Brooklyn Steel,\",Brooklyn NY,\"Brooklyn, NY - 8:00 PM\",Price: $35.00\n",
      "http://www.axs.com/events/347669/steve-winwood-tickets,MAR,13,TUE,Steve Winwood,\"The Capitol Theatre,\",Port Chester NY,\"Port Chester, NY - 8:00 PM\",Price: $65.00 - $125.00\n",
      "http://www.axs.com/events/348593/an-evening-with-kristin-hersh-grant-lee-phillips-tickets,MAR,13,TUE,An Evening with Kristin Hersh + Grant-Lee Phillips,\"Rough Trade NYC,\",Brooklyn NY,\"Brooklyn, NY - 8:30 PM\",Price: $22.00\n",
      "http://www.axs.com/events/337706/nightwish-tickets,MAR,14,WED,Nightwish,\"PlayStation Theater,\",New York NY,\"New York, NY - 8:00 PM\",\n",
      "http://www.axs.com/events/347588/beth-ditto-tickets,MAR,14,WED,Beth Ditto,\"Brooklyn Steel,\",Brooklyn NY,\"Brooklyn, NY - 8:00 PM\",Price: $25.00\n",
      "http://www.axs.com/events/347897/phil-lesh-the-terrapin-family-band-and-steve-winwood-tickets,MAR,14,WED,Phil Lesh & The Terrapin Family Band and Steve Winwood,\"The Capitol Theatre,\",Port Chester NY,\"Port Chester, NY - 8:00 PM\",\n",
      "http://www.axs.com/events/348274/a-tribute-for-nujabes-with-shing02-the-chee-hoos-tickets,MAR,14,WED,A Tribute for Nujabes with Shing02 & The Chee-Hoos,\"Rough Trade NYC,\",Brooklyn NY,\"Brooklyn, NY - 9:00 PM\",Price: $20.00\n",
      "http://www.axs.com/events/346096/i-m-with-her-y-sara-watkins-sarah-jarosz-and-aoife-o-donovan-tickets,MAR,15,THU,\"I'm With Her – Sara Watkins, Sarah Jarosz and Aoife O'Donovan\",\"Town Hall,\",New York City NY,\"New York City, NY - 8:00 PM\",Price: $37.50 - $42.50\n",
      "http://www.axs.com/events/346683/mat-kearney-tickets,MAR,15,THU,Mat Kearney,\"PlayStation Theater,\",New York NY,\"New York, NY - 8:00 PM\",\n",
      "http://www.axs.com/events/348757/whoopi-goldberg-tickets,MAR,15,THU,Whoopi Goldberg,\"Beacon Theatre,\",New York City NY,\"New York City, NY - 8:00 PM\",\n",
      "http://www.axs.com/events/345010/tall-heights-tickets,MAR,15,THU,Tall Heights,\"Rough Trade NYC,\",Brooklyn NY,\"Brooklyn, NY - 9:00 PM\",Price: $15.00\n",
      "http://www.axs.com/events/346642/nightmares-on-wax-tickets,MAR,15,THU,Nightmares On Wax,\"Music Hall of Williamsburg,\",Brooklyn NY,\"Brooklyn, NY - 9:00 PM\",Price: $22.50\n",
      "http://www.axs.com/events/349983/zion-t-tickets,MAR,16,FRI,Zion T,\"PlayStation Theater,\",New York NY,\"New York, NY - 7:00 PM\",\n",
      "http://www.axs.com/events/346638/raphael-tickets,APR,25,WED,Raphael,\"Beacon Theatre,\",New York City NY,\"New York City, NY - 8:00 PM\",Price: $59.50 - $119.50\n",
      "http://www.axs.com/events/346839/senses-fail-tickets,MAR,11,SUN,Senses Fail,\"Music Hall of Williamsburg,\",Brooklyn NY,\"Brooklyn, NY - 7:00 PM\",Price: $22.00\n",
      "http://www.axs.com/events/348757/whoopi-goldberg-tickets,MAR,15,THU,Whoopi Goldberg,\"Beacon Theatre,\",New York City NY,\"New York City, NY - 8:00 PM\",\n",
      "http://www.axs.com/events/345010/tall-heights-tickets,MAR,15,THU,Tall Heights,\"Rough Trade NYC,\",Brooklyn NY,\"Brooklyn, NY - 9:00 PM\",Price: $15.00\n",
      "http://www.axs.com/events/346642/nightmares-on-wax-tickets,MAR,15,THU,Nightmares On Wax,\"Music Hall of Williamsburg,\",Brooklyn NY,\"Brooklyn, NY - 9:00 PM\",Price: $22.50\n",
      "http://www.axs.com/events/349983/zion-t-tickets,MAR,16,FRI,Zion T,\"PlayStation Theater,\",New York NY,\"New York, NY - 7:00 PM\",\n",
      "http://www.axs.com/events/342888/time-machine-mashina-vremeni-back-to-the-usa-tickets,MAR,16,FRI,Time Machine/Mashina Vremeni - Back to the USA!,\"Terminal 5,\",New York NY,\"New York, NY - 8:00 PM\",Price: $85.00 - $250.00\n",
      "http://www.axs.com/events/347414/the-midnight-tickets,MAR,16,FRI,The Midnight,\"Music Hall of Williamsburg,\",Brooklyn NY,\"Brooklyn, NY - 9:00 PM\",Price: $16.00\n",
      "http://www.axs.com/events/349085/anomalie-tickets,MAR,16,FRI,Anomalie,\"Rough Trade NYC,\",Brooklyn NY,\"Brooklyn, NY - 9:00 PM\",Price: $12.00\n",
      "http://www.axs.com/events/346987/senses-fail-tickets,MAR,17,SAT,Senses Fail,\"Starland Ballroom,\",Sayreville NJ,\"Sayreville, NJ - 6:30 PM\",Price: $19.00\n",
      "http://www.axs.com/events/347367/buffalo-tom-tickets,MAR,17,SAT,Buffalo Tom,\"Music Hall of Williamsburg,\",Brooklyn NY,\"Brooklyn, NY - 9:00 PM\",Price: $25.00\n",
      "http://www.axs.com/events/347864/little-tybee-the-reign-of-kindo-tickets,MAR,17,SAT,Little Tybee / The Reign of Kindo,\"Rough Trade NYC,\",Brooklyn NY,\"Brooklyn, NY - 9:00 PM\",Price: $15.00\n",
      "http://www.axs.com/events/349467/our-golden-friend-nyc-showcase-jade-imagine-rvg-totally-mild-jess-tickets,MAR,19,MON,\"Our Golden Friend NYC Showcase: Jade Imagine, RVG, Totally Mild, Jess Ribeiro\",\"Rough Trade NYC,\",Brooklyn NY,\"Brooklyn, NY - 8:00 PM\",Price: $10.00\n",
      "http://www.axs.com/events/347583/moby-tickets,MAR,20,TUE,Moby,\"Rough Trade NYC,\",Brooklyn NY,\"Brooklyn, NY - 9:00 PM\",Price: $35.00\n",
      "http://www.axs.com/events/347346/knuckle-puck-tickets,MAR,21,WED,Knuckle Puck,\"Music Hall of Williamsburg,\",Brooklyn NY,\"Brooklyn, NY - 7:00 PM\",Price: $19.99\n",
      "http://www.axs.com/events/347585/moby-tickets,MAR,21,WED,Moby,\"Rough Trade NYC,\",Brooklyn NY,\"Brooklyn, NY - 9:00 PM\",Price: $35.00\n",
      "http://www.axs.com/events/345859/lucius-tickets,MAR,22,THU,Lucius,\"Town Hall,\",New York City NY,\"New York City, NY - 8:00 PM\",Price: $35.00 - $45.00\n",
      "http://www.axs.com/events/346088/son-lux-tickets,MAR,22,THU,Son Lux,\"Brooklyn Steel,\",Brooklyn NY,\"Brooklyn, NY - 8:00 PM\",\n",
      "http://www.axs.com/events/345841/theo-katzman-tickets,MAR,22,THU,Theo Katzman,\"Music Hall of Williamsburg,\",Brooklyn NY,\"Brooklyn, NY - 9:00 PM\",Price: $17.00\n",
      "http://www.axs.com/events/347708/wolf-tickets,MAR,22,THU,Wolf!,\"Rough Trade NYC,\",Brooklyn NY,\"Brooklyn, NY - 9:00 PM\",Price: $15.00\n",
      "http://www.axs.com/events/347838/matt-and-kim-tickets,MAR,23,FRI,Matt and Kim,\"Starland Ballroom,\",Sayreville NJ,\"Sayreville, NJ - 7:00 PM\",Price: $29.50\n",
      "http://www.axs.com/events/346515/keys-n-krates-tickets,MAR,23,FRI,Keys N Krates,\"Brooklyn Steel,\",Brooklyn NY,\"Brooklyn, NY - 8:00 PM\",\n",
      "http://www.axs.com/events/346821/boogie-t-squnto-strike-back-new-york-tickets,MAR,23,FRI,Boogie T & SQUNTO Strike Back: NEW YORK,\"Highline Ballroom,\",New York City NY,\"New York City, NY - 8:00 PM\",\n",
      "http://www.axs.com/events/346477/porches-tickets,MAR,23,FRI,Porches,\"Music Hall of Williamsburg,\",Brooklyn NY,\"Brooklyn, NY - 9:00 PM\",Price: $20.00\n",
      "http://www.axs.com/events/347004/miguel-tickets,MAR,23,FRI,Miguel,\"Terminal 5,\",New York NY,\"New York, NY - 9:00 PM\",Price: $45.00 - $195.00\n"
     ]
    }
   ],
   "source": [
    "!type axs_events_2018-2-11.csv"
   ]
  },
  {
   "cell_type": "code",
   "execution_count": 253,
   "metadata": {},
   "outputs": [
    {
     "name": "stdout",
     "output_type": "stream",
     "text": [
      "{'sale_url': 'http://www.axs.com/events/346741/railroad-earth-tickets', 'month': 'FEB', 'day': '17', 'weekday': 'SAT', 'performer': 'Railroad Earth', 'venue': 'The Capitol Theatre,', 'city': 'Port Chester NY', 'time': 'Port Chester, NY - 8:00 PM', 'price': 'Price: $25.00 - $35.00'}\n"
     ]
    },
    {
     "data": {
      "text/plain": [
       "174"
      ]
     },
     "execution_count": 253,
     "metadata": {},
     "output_type": "execute_result"
    }
   ],
   "source": [
    "\t\tevent_dict = {}\n",
    "\t\t\n",
    "\t\tlink = events[19].find_element_by_xpath('./div/a')\n",
    "\t\tsale_url = link.get_attribute('href')\n",
    "\t\tmonth = events[19].find_element_by_xpath('./div/a/div[1]/div/div[1]').text\n",
    "\t\tday = events[19].find_element_by_xpath('./div/a/div[1]/div/div[2]').text\n",
    "\t\tweekday = events[19].find_element_by_xpath('./div/a/div[1]/div/div[3]').text\n",
    "\t\tperformer = events[19].find_element_by_xpath('./div/a/div[2]/div[1]').text\n",
    "\t\tvenue = events[19].find_element_by_xpath('./div/a/div[2]/div[2]/span[1]').text\n",
    "\t\tcity = events[19].find_element_by_xpath('./div/a/div[2]/div[2]/span[2]').text\n",
    "\t\ttime.sleep(0.5)\n",
    "\t\t\n",
    "\t\t#navigate to a new page for time and price\n",
    "\t\tdriver.get(sale_url)\n",
    "\t\tnew_page_wait = wait_event.until(EC.presence_of_all_elements_located((By.XPATH,\n",
    "\t\t\t\t\t\t\t'//body')))\n",
    "\t\thour = driver.find_element_by_xpath('//section[@id=\"event-info-section\"]/div[2]/div[2]/span[1]').text\n",
    "\t\tprice = driver.find_element_by_xpath('//section[@id=\"event-ticket-options\"]/div/div[2]/div').text\n",
    "\t\ttime.sleep(2)\n",
    "\t\tdriver.back()\n",
    "\t\t\n",
    "\t\t#write variables to dictionary\n",
    "\t\tevent_dict['sale_url'] = sale_url\n",
    "\t\tevent_dict['month'] = month\n",
    "\t\tevent_dict['day'] = day\n",
    "\t\tevent_dict['weekday'] = weekday\n",
    "\t\tevent_dict['performer'] = performer\n",
    "\t\tevent_dict['venue'] = venue\n",
    "\t\tevent_dict['city'] = city\n",
    "\t\tevent_dict['time'] = hour\n",
    "\t\tevent_dict['price'] = price\n",
    "\t\tprint(event_dict)\n",
    "\t\tevent_dict\n",
    "\t\t\n",
    "\t\t#write event to CSV\n",
    "\t\twriter.writerow(event_dict.values())"
   ]
  },
  {
   "cell_type": "code",
   "execution_count": 368,
   "metadata": {},
   "outputs": [
    {
     "data": {
      "text/plain": [
       "'MAR\\n19\\nMON\\nOur Golden Friend NYC Showcase: Jade Imagine, RVG, Totally Mild, Jess Ribeiro\\nRough Trade NYC, Brooklyn NY'"
      ]
     },
     "execution_count": 368,
     "metadata": {},
     "output_type": "execute_result"
    }
   ],
   "source": [
    "events[11].text"
   ]
  },
  {
   "cell_type": "code",
   "execution_count": 348,
   "metadata": {},
   "outputs": [
    {
     "data": {
      "text/plain": [
       "101"
      ]
     },
     "execution_count": 348,
     "metadata": {},
     "output_type": "execute_result"
    }
   ],
   "source": [
    "len(events)"
   ]
  },
  {
   "cell_type": "code",
   "execution_count": null,
   "metadata": {},
   "outputs": [],
   "source": []
  }
 ],
 "metadata": {
  "kernelspec": {
   "display_name": "Python 3",
   "language": "python",
   "name": "python3"
  },
  "language_info": {
   "codemirror_mode": {
    "name": "ipython",
    "version": 3
   },
   "file_extension": ".py",
   "mimetype": "text/x-python",
   "name": "python",
   "nbconvert_exporter": "python",
   "pygments_lexer": "ipython3",
   "version": "3.6.4"
  }
 },
 "nbformat": 4,
 "nbformat_minor": 2
}
