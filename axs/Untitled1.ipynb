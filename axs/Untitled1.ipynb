{
 "cells": [
  {
   "cell_type": "code",
   "execution_count": 1,
   "metadata": {},
   "outputs": [],
   "source": [
    "from selenium import webdriver\n",
    "from selenium.webdriver.common.keys import Keys\n",
    "from selenium.webdriver.common.by import By\n",
    "from selenium.webdriver.support.ui import WebDriverWait\n",
    "from selenium.webdriver.support import expected_conditions as EC\n",
    "import time\n",
    "import csv\n",
    "import re\n",
    "import functools #for reduce_concat function\n",
    "import datetime #for csv file title\n",
    "import random\n",
    "\n",
    "now = datetime.datetime.now() #for csv file title"
   ]
  },
  {
   "cell_type": "code",
   "execution_count": 2,
   "metadata": {},
   "outputs": [],
   "source": [
    "#Initiate Chrome Driver and ignore certificate errors\n",
    "options = webdriver.ChromeOptions()\n",
    "options.add_argument('--ignore-certificate-errors')\n",
    "options.add_argument('--ignore-ssl-errors')\n",
    "driver = webdriver.Chrome(chrome_options=options)\n",
    "driver.get(\"https://www.axs.com/browse/music\")"
   ]
  },
  {
   "cell_type": "code",
   "execution_count": 4,
   "metadata": {},
   "outputs": [],
   "source": [
    "#give the website time to load\n",
    "time.sleep(5)\n",
    "driver.maximize_window()\n",
    "\n",
    "#Wait for JavaScript to appear before entering location\n",
    "enterloc = WebDriverWait(driver, 20).until(EC.presence_of_element_located((By.XPATH, \"//body\")))\n",
    "time.sleep(5)\n",
    "\n",
    "#Navigate to input for location and enter city name\n",
    "enterloc = driver.find_element_by_xpath('//div[@class=\"nav-item-container\"]/ul/li/a[@class=\"nav-location location-search-trigger\"]')\n",
    "enterloc.click()\n",
    "time.sleep(1.5)\n",
    "typeloc = driver.find_element_by_xpath('//div/input[@class=\"location-search__form-input\"]')\n",
    "\n",
    "#Type the string more slowly to avoid detection\n",
    "keysender = \"New York City, NY\"\n",
    "keysender.split()\n",
    "for i in keysender:\n",
    "\ttypeloc.send_keys(i)\n",
    "\ttime.sleep(0.1)\n",
    "\ttypeloc.send_keys(Keys.END)\n",
    "\ttime.sleep(0.1)\n",
    "time.sleep(2)\n",
    "typeloc.send_keys(Keys.ENTER)\n",
    "time.sleep(3)"
   ]
  },
  {
   "cell_type": "code",
   "execution_count": 196,
   "metadata": {},
   "outputs": [],
   "source": [
    "#scroll to end of page so that all elements are visible\n",
    "calm = WebDriverWait(driver, 20).until(EC.presence_of_element_located((By.XPATH, \"//html\"))) #if elements aren't available it will return a timeout error and alert user that script must be altered\n",
    "time.sleep(3)\n",
    "lenOfPage = driver.execute_script(\"window.scrollTo(0, document.body.scrollHeight);var lenOfPage=document.body.scrollHeight;return lenOfPage;\")\n",
    "match=False\n",
    "\n",
    "while(match==False):\n",
    "\tlastCount = lenOfPage\n",
    "\ttime.sleep(3.5)\n",
    "\tlenOfPage = driver.execute_script(\"window.scrollTo(0, document.body.scrollHeight);var lenOfPage=document.body.scrollHeight;return lenOfPage;\")\n",
    "\tif lastCount==lenOfPage:\n",
    "\t\tmatch=True\n",
    "\n",
    "scroll = driver.find_element_by_xpath('//html')\n",
    "time.sleep(2)\n",
    "scroll.send_keys(Keys.HOME)\n",
    "time.sleep(2)"
   ]
  },
  {
   "cell_type": "code",
   "execution_count": 236,
   "metadata": {},
   "outputs": [],
   "source": [
    "#Open CSV Writer\n",
    "filename = paste(['axs_events_'], [now.year], ['-'], [now.month], ['-'], [now.day],['.csv'], sep='')\n",
    "filename = ''.join(filename)\n",
    "csv_file = open(filename, 'a', newline = '')\n",
    "writer = csv.writer(csv_file)\n",
    "\n",
    "#collect html tags, this will need to go inside of the nested loop function\n",
    "wait_event = WebDriverWait(driver, 10)\n",
    "events = wait_event.until(EC.presence_of_all_elements_located((By.XPATH,\n",
    "\t\t\t\t\t\t\t'//div[@class=\"results-table results-table--events\"]')))"
   ]
  },
  {
   "cell_type": "code",
   "execution_count": 232,
   "metadata": {},
   "outputs": [
    {
     "data": {
      "text/plain": [
       "'FEB\\n24\\nSAT\\nFrightened Rabbit: The Midnight Organ Fight 10th Anniversary Tour\\nMusic Hall of Williamsburg, Brooklyn NY'"
      ]
     },
     "execution_count": 232,
     "metadata": {},
     "output_type": "execute_result"
    }
   ],
   "source": [
    "events[-1].text"
   ]
  },
  {
   "cell_type": "code",
   "execution_count": 213,
   "metadata": {},
   "outputs": [
    {
     "data": {
      "text/plain": [
       "53"
      ]
     },
     "execution_count": 213,
     "metadata": {},
     "output_type": "execute_result"
    }
   ],
   "source": [
    "len(events)"
   ]
  },
  {
   "cell_type": "code",
   "execution_count": 149,
   "metadata": {},
   "outputs": [
    {
     "name": "stdout",
     "output_type": "stream",
     "text": [
      "2283\n"
     ]
    }
   ],
   "source": [
    "print(lenOfPage)"
   ]
  },
  {
   "cell_type": "code",
   "execution_count": 30,
   "metadata": {},
   "outputs": [
    {
     "name": "stdout",
     "output_type": "stream",
     "text": [
      "http://www.axs.com/events/344193/first-aid-kit-tickets\n"
     ]
    }
   ],
   "source": [
    "href = hold.get_attribute('href')\n",
    "print(href)"
   ]
  },
  {
   "cell_type": "code",
   "execution_count": 191,
   "metadata": {},
   "outputs": [],
   "source": [
    "link = events[2].find_element_by_xpath('./div/a')\n",
    "sale_url = link.get_attribute('href')\n",
    "month = events[2].find_element_by_xpath('./div/a/div[1]/div/div[1]').text\n",
    "day = events[2].find_element_by_xpath('./div/a/div[1]/div/div[2]').text\n",
    "weekday = events[2].find_element_by_xpath('./div/a/div[1]/div/div[3]').text\n",
    "performer = events[2].find_element_by_xpath('./div/a/div[2]/div[1]').text\n",
    "venue = events[2].find_element_by_xpath('./div/a/div[2]/div[2]/span[1]').text\n",
    "city = events[2].find_element_by_xpath('./div/a/div[2]/div[2]/span[2]').text"
   ]
  },
  {
   "cell_type": "code",
   "execution_count": 192,
   "metadata": {},
   "outputs": [
    {
     "data": {
      "text/plain": [
       "'Sleigh Bells'"
      ]
     },
     "execution_count": 192,
     "metadata": {},
     "output_type": "execute_result"
    }
   ],
   "source": [
    "performer"
   ]
  },
  {
   "cell_type": "code",
   "execution_count": 193,
   "metadata": {},
   "outputs": [],
   "source": [
    "driver.get(sale_url)\n",
    "new_page_wait = wait_event.until(EC.presence_of_all_elements_located((By.XPATH,\n",
    "                    '//body')))\n",
    "hour = driver.find_element_by_xpath('//section[@id=\"event-info-section\"]/div[2]/div[2]/span[1]').text\n",
    "price = driver.find_element_by_xpath('//section[@id=\"event-ticket-options\"]/div/div[2]/div').text\n",
    "time.sleep(2)\n",
    "driver.back()"
   ]
  },
  {
   "cell_type": "code",
   "execution_count": 195,
   "metadata": {},
   "outputs": [
    {
     "data": {
      "text/plain": [
       "'Price: $30.00'"
      ]
     },
     "execution_count": 195,
     "metadata": {},
     "output_type": "execute_result"
    }
   ],
   "source": [
    "price"
   ]
  },
  {
   "cell_type": "code",
   "execution_count": 516,
   "metadata": {},
   "outputs": [],
   "source": [
    "#For csv file names (testing)\n",
    "def reduce_concat(x, sep=\"\"):\n",
    "\treturn functools.reduce(lambda x, y: str(x) + sep + str(y), x)\n",
    "\t\n",
    "def paste(*lists, sep=\" \", collapse=None):\n",
    "\tresult = map(lambda x: reduce_concat(x, sep=sep), zip(*lists))\n",
    "\tif collapse is not None:\n",
    "\t\treturn reduce_concat(result, sep=collapse)\n",
    "\treturn list(result)\n",
    "\t\n",
    "def writeevents(events, writer, driver):\n",
    "\tfor i in range(5, len(events)):\n",
    "\t\t#dictionary to store event data\n",
    "\t\tevent_dict = {}\n",
    "\t\t\n",
    "\t\t#set event data equal to html elements\n",
    "\t\tlink = events[i].find_element_by_xpath('./div/a')\n",
    "\t\tsale_url = link.get_attribute('href')\n",
    "\t\tmonth = events[i].find_element_by_xpath('./div/a/div[1]/div/div[1]').text\n",
    "\t\tday = events[i].find_element_by_xpath('./div/a/div[1]/div/div[2]').text\n",
    "\t\tweekday = events[i].find_element_by_xpath('./div/a/div[1]/div/div[3]').text\n",
    "\t\tperformer = events[i].find_element_by_xpath('./div/a/div[2]/div[1]').text\n",
    "\t\tvenue = events[i].find_element_by_xpath('./div/a/div[2]/div[2]/span[1]').text\n",
    "\t\tcity = events[i].find_element_by_xpath('./div/a/div[2]/div[2]/span[2]').text\n",
    "\t\ttime.sleep(random.uniform(0.4, 0.6))\n",
    "\t\t\n",
    "\t\t#navigate to a new page for time and price\n",
    "\t\tdriver.get(sale_url)\n",
    "\t\tnew_page_wait = wait_event.until(EC.presence_of_all_elements_located((By.XPATH,\n",
    "\t\t\t\t\t\t\t'//body')))\n",
    "\t\thour = driver.find_element_by_xpath('//section[@id=\"event-info-section\"]/div[2]/div[2]/span[1]').text\n",
    "\t\tprice = driver.find_element_by_xpath('//section[@id=\"event-ticket-options\"]/div/div[2]/div').text\n",
    "\t\ttime.sleep(2)\n",
    "\t\tdriver.back()\n",
    "\t\t\n",
    "\t\t#write variables to dictionary\n",
    "\t\tevent_dict['sale_url'] = sale_url\n",
    "\t\tevent_dict['month'] = month\n",
    "\t\tevent_dict['day'] = day\n",
    "\t\tevent_dict['weekday'] = weekday\n",
    "\t\tevent_dict['performer'] = performer\n",
    "\t\tevent_dict['venue'] = venue\n",
    "\t\tevent_dict['city'] = city\n",
    "\t\tevent_dict['time'] = hour\n",
    "\t\tevent_dict['price'] = price\n",
    "\t\t\n",
    "\t\t#ensure accurate data collection\n",
    "\t\tprint(i)\n",
    "\t\ti\n",
    "\t\tprint(event_dict)\n",
    "\t\tevent_dict\n",
    "\t\t\n",
    "\t\t#write event to CSV\n",
    "\t\twriter.writerow(event_dict.values())\n",
    "\t\t\n",
    "\t\tcalm = WebDriverWait(driver, 20).until(EC.presence_of_element_located((By.XPATH, \"//html\"))) #if elements aren't available it will return a timeout error and alert user that script must be altered\n",
    "\t\ttime.sleep(3)\n",
    "\t\tlenOfPage = driver.execute_script(\"window.scrollTo(0, document.body.scrollHeight);var lenOfPage=document.body.scrollHeight;return lenOfPage;\")\n",
    "\t\tmatch=False\n",
    "\n",
    "\t\twhile(match==False):\n",
    "\t\t\tlastCount = lenOfPage\n",
    "\t\t\ttime.sleep(random.uniform(3.5,5))\n",
    "\t\t\tlenOfPage = driver.execute_script(\"window.scrollTo(0, document.body.scrollHeight);var lenOfPage=document.body.scrollHeight;return lenOfPage;\")\n",
    "\t\t\tif lastCount==lenOfPage:\n",
    "\t\t\t\tmatch=True\n",
    "                \n",
    "\t\tscrollerArg = paste([\"window.scrollTo(0, \"], [5724 * 5.5], [\");\"], sep = '')\n",
    "\t\tscrollerArg = ''.join(scrollerArg)\n",
    "\t\tscroller = driver.execute_script(scrollerArg)\n",
    "\t\t\n",
    "\t\tscrollerArg = paste([\"window.scrollTo(0, \"], [newPos], [\");\"], sep = '')\n",
    "\t\tscrollerArg = ''.join(scrollerArg)\n",
    "\t\tscroller = driver.execute_script(scrollerArg)\n",
    "\t\tevents = wait_event.until(EC.presence_of_all_elements_located((By.XPATH,\n",
    "\t\t\t\t\t'//div[@class=\"results-table results-table--events\"]')))"
   ]
  },
  {
   "cell_type": "code",
   "execution_count": 519,
   "metadata": {},
   "outputs": [
    {
     "name": "stdout",
     "output_type": "stream",
     "text": [
      "31482.0\n"
     ]
    }
   ],
   "source": [
    "scrollerArg = paste([\"window.scrollTo(0, \"], [5724*5.5], [\");\"], sep = '')\n",
    "scrollerArg = ''.join(scrollerArg)\n",
    "scroller = driver.execute_script(scrollerArg)\n",
    "position = 5724*5.5\n",
    "print(position)"
   ]
  },
  {
   "cell_type": "code",
   "execution_count": 508,
   "metadata": {},
   "outputs": [
    {
     "data": {
      "text/plain": [
       "31482.0"
      ]
     },
     "execution_count": 508,
     "metadata": {},
     "output_type": "execute_result"
    }
   ],
   "source": [
    "5724 * 5.5"
   ]
  },
  {
   "cell_type": "code",
   "execution_count": 520,
   "metadata": {},
   "outputs": [],
   "source": [
    "#Open CSV Writer\n",
    "filename = paste(['axs_events_'], [now.year], ['-'], [now.month], ['-'], [now.day],['.csv'], sep='')\n",
    "filename = ''.join(filename)\n",
    "csv_file = open(filename, 'a', newline = '')\n",
    "writer = csv.writer(csv_file)\n",
    "\n",
    "#collect html tags, this will need to go inside of the nested loop function\n",
    "wait_event = WebDriverWait(driver, 10)\n",
    "events = wait_event.until(EC.presence_of_all_elements_located((By.XPATH,\n",
    "\t\t\t\t\t\t\t'//div[@class=\"results-table results-table--events\"]')))"
   ]
  },
  {
   "cell_type": "code",
   "execution_count": 521,
   "metadata": {},
   "outputs": [
    {
     "name": "stdout",
     "output_type": "stream",
     "text": [
      "Number of events: 75\n",
      "position pre-loop: 31482.0\n",
      "5\n",
      "{'sale_url': 'http://www.axs.com/events/348539/bishop-briggs-tickets', 'month': 'MAY', 'day': '22', 'weekday': 'TUE', 'performer': 'Bishop Briggs', 'venue': 'Brooklyn Steel,', 'city': 'Brooklyn NY', 'time': 'Brooklyn, NY - 8:00 PM', 'price': 'Price: $23.00 - $73.00'}\n",
      "6\n",
      "{'sale_url': 'http://www.axs.com/events/336284/the-kooks-tickets', 'month': 'MAY', 'day': '23', 'weekday': 'WED', 'performer': 'The Kooks', 'venue': 'Brooklyn Steel,', 'city': 'Brooklyn NY', 'time': 'Brooklyn, NY - 8:00 PM', 'price': 'Price: $35.00'}\n",
      "7\n",
      "{'sale_url': 'http://www.axs.com/events/347845/billy-joel-in-concert-tickets', 'month': 'MAY', 'day': '23', 'weekday': 'WED', 'performer': 'Billy Joel - In Concert', 'venue': 'Madison Square Garden,', 'city': 'New York City NY', 'time': 'New York City, NY - 8:00 PM', 'price': ''}\n",
      "8\n",
      "{'sale_url': 'http://www.axs.com/events/347861/this-is-the-kit-tickets', 'month': 'MAY', 'day': '23', 'weekday': 'WED', 'performer': 'This Is the Kit', 'venue': 'Rough Trade NYC,', 'city': 'Brooklyn NY', 'time': 'Brooklyn, NY - 9:00 PM', 'price': 'Price: $15.00'}\n",
      "9\n",
      "{'sale_url': 'http://www.axs.com/events/348954/laura-veirs-tickets', 'month': 'MAY', 'day': '24', 'weekday': 'THU', 'performer': 'Laura Veirs', 'venue': 'Rough Trade NYC,', 'city': 'Brooklyn NY', 'time': 'Brooklyn, NY - 8:30 PM', 'price': 'Price: $15.00'}\n",
      "10\n",
      "{'sale_url': 'http://www.axs.com/events/347152/royal-blood-tickets', 'month': 'MAY', 'day': '28', 'weekday': 'MON', 'performer': 'Royal Blood', 'venue': 'Brooklyn Steel,', 'city': 'Brooklyn NY', 'time': 'Brooklyn, NY - 8:30 PM', 'price': 'Price: $37.00'}\n",
      "11\n",
      "{'sale_url': 'http://www.axs.com/events/348418/new-found-glory-tickets', 'month': 'MAY', 'day': '29', 'weekday': 'TUE', 'performer': 'New Found Glory', 'venue': 'PlayStation Theater,', 'city': 'New York NY', 'time': 'New York, NY - 7:00 PM', 'price': ''}\n",
      "12\n",
      "{'sale_url': 'http://www.axs.com/events/349383/royal-blood-tickets', 'month': 'MAY', 'day': '29', 'weekday': 'TUE', 'performer': 'Royal Blood', 'venue': 'Brooklyn Steel,', 'city': 'Brooklyn NY', 'time': 'Brooklyn, NY - 8:30 PM', 'price': 'Price: $37.00'}\n",
      "13\n",
      "{'sale_url': 'http://www.axs.com/events/349032/hop-along-tickets', 'month': 'MAY', 'day': '30', 'weekday': 'WED', 'performer': 'Hop Along', 'venue': 'Brooklyn Steel,', 'city': 'Brooklyn NY', 'time': 'Brooklyn, NY - 8:00 PM', 'price': 'Price: $20.00'}\n"
     ]
    },
    {
     "ename": "KeyboardInterrupt",
     "evalue": "",
     "output_type": "error",
     "traceback": [
      "\u001b[1;31m---------------------------------------------------------------------------\u001b[0m",
      "\u001b[1;31mKeyboardInterrupt\u001b[0m                         Traceback (most recent call last)",
      "\u001b[1;32m<ipython-input-521-f25d0ae8d5ff>\u001b[0m in \u001b[0;36m<module>\u001b[1;34m()\u001b[0m\n\u001b[0;32m      3\u001b[0m         \u001b[0mprint\u001b[0m\u001b[1;33m(\u001b[0m\u001b[1;34m'Number of events:'\u001b[0m\u001b[1;33m,\u001b[0m \u001b[0mlen\u001b[0m\u001b[1;33m(\u001b[0m\u001b[0mevents\u001b[0m\u001b[1;33m)\u001b[0m\u001b[1;33m)\u001b[0m\u001b[1;33m\u001b[0m\u001b[0m\n\u001b[0;32m      4\u001b[0m         \u001b[0mprint\u001b[0m\u001b[1;33m(\u001b[0m\u001b[1;34m'position pre-loop:'\u001b[0m\u001b[1;33m,\u001b[0m \u001b[0mnewPos\u001b[0m\u001b[1;33m)\u001b[0m \u001b[1;31m#for testing\u001b[0m\u001b[1;33m\u001b[0m\u001b[0m\n\u001b[1;32m----> 5\u001b[1;33m         \u001b[0mwriteevents\u001b[0m\u001b[1;33m(\u001b[0m\u001b[0mevents\u001b[0m\u001b[1;33m,\u001b[0m \u001b[0mwriter\u001b[0m\u001b[1;33m,\u001b[0m \u001b[0mdriver\u001b[0m\u001b[1;33m)\u001b[0m\u001b[1;33m\u001b[0m\u001b[0m\n\u001b[0m\u001b[0;32m      6\u001b[0m         \u001b[0moffprep\u001b[0m \u001b[1;33m=\u001b[0m \u001b[0mpaste\u001b[0m\u001b[1;33m(\u001b[0m\u001b[1;33m[\u001b[0m\u001b[1;34m\"var offprep = window.screen.height * \"\u001b[0m\u001b[1;33m]\u001b[0m\u001b[1;33m,\u001b[0m \u001b[1;33m[\u001b[0m\u001b[1;33m(\u001b[0m\u001b[0mlen\u001b[0m\u001b[1;33m(\u001b[0m\u001b[0mevents\u001b[0m\u001b[1;33m)\u001b[0m\u001b[1;33m)\u001b[0m\u001b[1;33m/\u001b[0m\u001b[1;36m8\u001b[0m\u001b[1;33m]\u001b[0m\u001b[1;33m,\u001b[0m \u001b[1;33m[\u001b[0m\u001b[1;34m\";return offprep\"\u001b[0m\u001b[1;33m]\u001b[0m\u001b[1;33m,\u001b[0m \u001b[0msep\u001b[0m\u001b[1;33m=\u001b[0m\u001b[1;34m''\u001b[0m\u001b[1;33m)\u001b[0m \u001b[1;31m#7 fit on a page, giving myself room for error\u001b[0m\u001b[1;33m\u001b[0m\u001b[0m\n\u001b[0;32m      7\u001b[0m         \u001b[0moffprep\u001b[0m \u001b[1;33m=\u001b[0m \u001b[1;34m''\u001b[0m\u001b[1;33m.\u001b[0m\u001b[0mjoin\u001b[0m\u001b[1;33m(\u001b[0m\u001b[0moffprep\u001b[0m\u001b[1;33m)\u001b[0m\u001b[1;33m\u001b[0m\u001b[0m\n",
      "\u001b[1;32m<ipython-input-516-cf15a56a598d>\u001b[0m in \u001b[0;36mwriteevents\u001b[1;34m(events, writer, driver)\u001b[0m\n\u001b[0;32m     32\u001b[0m                 \u001b[0mprice\u001b[0m \u001b[1;33m=\u001b[0m \u001b[0mdriver\u001b[0m\u001b[1;33m.\u001b[0m\u001b[0mfind_element_by_xpath\u001b[0m\u001b[1;33m(\u001b[0m\u001b[1;34m'//section[@id=\"event-ticket-options\"]/div/div[2]/div'\u001b[0m\u001b[1;33m)\u001b[0m\u001b[1;33m.\u001b[0m\u001b[0mtext\u001b[0m\u001b[1;33m\u001b[0m\u001b[0m\n\u001b[0;32m     33\u001b[0m                 \u001b[0mtime\u001b[0m\u001b[1;33m.\u001b[0m\u001b[0msleep\u001b[0m\u001b[1;33m(\u001b[0m\u001b[1;36m2\u001b[0m\u001b[1;33m)\u001b[0m\u001b[1;33m\u001b[0m\u001b[0m\n\u001b[1;32m---> 34\u001b[1;33m                 \u001b[0mdriver\u001b[0m\u001b[1;33m.\u001b[0m\u001b[0mback\u001b[0m\u001b[1;33m(\u001b[0m\u001b[1;33m)\u001b[0m\u001b[1;33m\u001b[0m\u001b[0m\n\u001b[0m\u001b[0;32m     35\u001b[0m \u001b[1;33m\u001b[0m\u001b[0m\n\u001b[0;32m     36\u001b[0m                 \u001b[1;31m#write variables to dictionary\u001b[0m\u001b[1;33m\u001b[0m\u001b[1;33m\u001b[0m\u001b[0m\n",
      "\u001b[1;32m~\\Anaconda3\\lib\\site-packages\\selenium\\webdriver\\remote\\webdriver.py\u001b[0m in \u001b[0;36mback\u001b[1;34m(self)\u001b[0m\n\u001b[0;32m    795\u001b[0m             \u001b[0mdriver\u001b[0m\u001b[1;33m.\u001b[0m\u001b[0mback\u001b[0m\u001b[1;33m(\u001b[0m\u001b[1;33m)\u001b[0m\u001b[1;33m\u001b[0m\u001b[0m\n\u001b[0;32m    796\u001b[0m         \"\"\"\n\u001b[1;32m--> 797\u001b[1;33m         \u001b[0mself\u001b[0m\u001b[1;33m.\u001b[0m\u001b[0mexecute\u001b[0m\u001b[1;33m(\u001b[0m\u001b[0mCommand\u001b[0m\u001b[1;33m.\u001b[0m\u001b[0mGO_BACK\u001b[0m\u001b[1;33m)\u001b[0m\u001b[1;33m\u001b[0m\u001b[0m\n\u001b[0m\u001b[0;32m    798\u001b[0m \u001b[1;33m\u001b[0m\u001b[0m\n\u001b[0;32m    799\u001b[0m     \u001b[1;32mdef\u001b[0m \u001b[0mforward\u001b[0m\u001b[1;33m(\u001b[0m\u001b[0mself\u001b[0m\u001b[1;33m)\u001b[0m\u001b[1;33m:\u001b[0m\u001b[1;33m\u001b[0m\u001b[0m\n",
      "\u001b[1;32m~\\Anaconda3\\lib\\site-packages\\selenium\\webdriver\\remote\\webdriver.py\u001b[0m in \u001b[0;36mexecute\u001b[1;34m(self, driver_command, params)\u001b[0m\n\u001b[0;32m    308\u001b[0m \u001b[1;33m\u001b[0m\u001b[0m\n\u001b[0;32m    309\u001b[0m         \u001b[0mparams\u001b[0m \u001b[1;33m=\u001b[0m \u001b[0mself\u001b[0m\u001b[1;33m.\u001b[0m\u001b[0m_wrap_value\u001b[0m\u001b[1;33m(\u001b[0m\u001b[0mparams\u001b[0m\u001b[1;33m)\u001b[0m\u001b[1;33m\u001b[0m\u001b[0m\n\u001b[1;32m--> 310\u001b[1;33m         \u001b[0mresponse\u001b[0m \u001b[1;33m=\u001b[0m \u001b[0mself\u001b[0m\u001b[1;33m.\u001b[0m\u001b[0mcommand_executor\u001b[0m\u001b[1;33m.\u001b[0m\u001b[0mexecute\u001b[0m\u001b[1;33m(\u001b[0m\u001b[0mdriver_command\u001b[0m\u001b[1;33m,\u001b[0m \u001b[0mparams\u001b[0m\u001b[1;33m)\u001b[0m\u001b[1;33m\u001b[0m\u001b[0m\n\u001b[0m\u001b[0;32m    311\u001b[0m         \u001b[1;32mif\u001b[0m \u001b[0mresponse\u001b[0m\u001b[1;33m:\u001b[0m\u001b[1;33m\u001b[0m\u001b[0m\n\u001b[0;32m    312\u001b[0m             \u001b[0mself\u001b[0m\u001b[1;33m.\u001b[0m\u001b[0merror_handler\u001b[0m\u001b[1;33m.\u001b[0m\u001b[0mcheck_response\u001b[0m\u001b[1;33m(\u001b[0m\u001b[0mresponse\u001b[0m\u001b[1;33m)\u001b[0m\u001b[1;33m\u001b[0m\u001b[0m\n",
      "\u001b[1;32m~\\Anaconda3\\lib\\site-packages\\selenium\\webdriver\\remote\\remote_connection.py\u001b[0m in \u001b[0;36mexecute\u001b[1;34m(self, command, params)\u001b[0m\n\u001b[0;32m    464\u001b[0m         \u001b[0mdata\u001b[0m \u001b[1;33m=\u001b[0m \u001b[0mutils\u001b[0m\u001b[1;33m.\u001b[0m\u001b[0mdump_json\u001b[0m\u001b[1;33m(\u001b[0m\u001b[0mparams\u001b[0m\u001b[1;33m)\u001b[0m\u001b[1;33m\u001b[0m\u001b[0m\n\u001b[0;32m    465\u001b[0m         \u001b[0murl\u001b[0m \u001b[1;33m=\u001b[0m \u001b[1;34m'%s%s'\u001b[0m \u001b[1;33m%\u001b[0m \u001b[1;33m(\u001b[0m\u001b[0mself\u001b[0m\u001b[1;33m.\u001b[0m\u001b[0m_url\u001b[0m\u001b[1;33m,\u001b[0m \u001b[0mpath\u001b[0m\u001b[1;33m)\u001b[0m\u001b[1;33m\u001b[0m\u001b[0m\n\u001b[1;32m--> 466\u001b[1;33m         \u001b[1;32mreturn\u001b[0m \u001b[0mself\u001b[0m\u001b[1;33m.\u001b[0m\u001b[0m_request\u001b[0m\u001b[1;33m(\u001b[0m\u001b[0mcommand_info\u001b[0m\u001b[1;33m[\u001b[0m\u001b[1;36m0\u001b[0m\u001b[1;33m]\u001b[0m\u001b[1;33m,\u001b[0m \u001b[0murl\u001b[0m\u001b[1;33m,\u001b[0m \u001b[0mbody\u001b[0m\u001b[1;33m=\u001b[0m\u001b[0mdata\u001b[0m\u001b[1;33m)\u001b[0m\u001b[1;33m\u001b[0m\u001b[0m\n\u001b[0m\u001b[0;32m    467\u001b[0m \u001b[1;33m\u001b[0m\u001b[0m\n\u001b[0;32m    468\u001b[0m     \u001b[1;32mdef\u001b[0m \u001b[0m_request\u001b[0m\u001b[1;33m(\u001b[0m\u001b[0mself\u001b[0m\u001b[1;33m,\u001b[0m \u001b[0mmethod\u001b[0m\u001b[1;33m,\u001b[0m \u001b[0murl\u001b[0m\u001b[1;33m,\u001b[0m \u001b[0mbody\u001b[0m\u001b[1;33m=\u001b[0m\u001b[1;32mNone\u001b[0m\u001b[1;33m)\u001b[0m\u001b[1;33m:\u001b[0m\u001b[1;33m\u001b[0m\u001b[0m\n",
      "\u001b[1;32m~\\Anaconda3\\lib\\site-packages\\selenium\\webdriver\\remote\\remote_connection.py\u001b[0m in \u001b[0;36m_request\u001b[1;34m(self, method, url, body)\u001b[0m\n\u001b[0;32m    488\u001b[0m             \u001b[1;32mtry\u001b[0m\u001b[1;33m:\u001b[0m\u001b[1;33m\u001b[0m\u001b[0m\n\u001b[0;32m    489\u001b[0m                 \u001b[0mself\u001b[0m\u001b[1;33m.\u001b[0m\u001b[0m_conn\u001b[0m\u001b[1;33m.\u001b[0m\u001b[0mrequest\u001b[0m\u001b[1;33m(\u001b[0m\u001b[0mmethod\u001b[0m\u001b[1;33m,\u001b[0m \u001b[0mparsed_url\u001b[0m\u001b[1;33m.\u001b[0m\u001b[0mpath\u001b[0m\u001b[1;33m,\u001b[0m \u001b[0mbody\u001b[0m\u001b[1;33m,\u001b[0m \u001b[0mheaders\u001b[0m\u001b[1;33m)\u001b[0m\u001b[1;33m\u001b[0m\u001b[0m\n\u001b[1;32m--> 490\u001b[1;33m                 \u001b[0mresp\u001b[0m \u001b[1;33m=\u001b[0m \u001b[0mself\u001b[0m\u001b[1;33m.\u001b[0m\u001b[0m_conn\u001b[0m\u001b[1;33m.\u001b[0m\u001b[0mgetresponse\u001b[0m\u001b[1;33m(\u001b[0m\u001b[1;33m)\u001b[0m\u001b[1;33m\u001b[0m\u001b[0m\n\u001b[0m\u001b[0;32m    491\u001b[0m             \u001b[1;32mexcept\u001b[0m \u001b[1;33m(\u001b[0m\u001b[0mhttplib\u001b[0m\u001b[1;33m.\u001b[0m\u001b[0mHTTPException\u001b[0m\u001b[1;33m,\u001b[0m \u001b[0msocket\u001b[0m\u001b[1;33m.\u001b[0m\u001b[0merror\u001b[0m\u001b[1;33m)\u001b[0m\u001b[1;33m:\u001b[0m\u001b[1;33m\u001b[0m\u001b[0m\n\u001b[0;32m    492\u001b[0m                 \u001b[0mself\u001b[0m\u001b[1;33m.\u001b[0m\u001b[0m_conn\u001b[0m\u001b[1;33m.\u001b[0m\u001b[0mclose\u001b[0m\u001b[1;33m(\u001b[0m\u001b[1;33m)\u001b[0m\u001b[1;33m\u001b[0m\u001b[0m\n",
      "\u001b[1;32m~\\Anaconda3\\lib\\http\\client.py\u001b[0m in \u001b[0;36mgetresponse\u001b[1;34m(self)\u001b[0m\n\u001b[0;32m   1329\u001b[0m         \u001b[1;32mtry\u001b[0m\u001b[1;33m:\u001b[0m\u001b[1;33m\u001b[0m\u001b[0m\n\u001b[0;32m   1330\u001b[0m             \u001b[1;32mtry\u001b[0m\u001b[1;33m:\u001b[0m\u001b[1;33m\u001b[0m\u001b[0m\n\u001b[1;32m-> 1331\u001b[1;33m                 \u001b[0mresponse\u001b[0m\u001b[1;33m.\u001b[0m\u001b[0mbegin\u001b[0m\u001b[1;33m(\u001b[0m\u001b[1;33m)\u001b[0m\u001b[1;33m\u001b[0m\u001b[0m\n\u001b[0m\u001b[0;32m   1332\u001b[0m             \u001b[1;32mexcept\u001b[0m \u001b[0mConnectionError\u001b[0m\u001b[1;33m:\u001b[0m\u001b[1;33m\u001b[0m\u001b[0m\n\u001b[0;32m   1333\u001b[0m                 \u001b[0mself\u001b[0m\u001b[1;33m.\u001b[0m\u001b[0mclose\u001b[0m\u001b[1;33m(\u001b[0m\u001b[1;33m)\u001b[0m\u001b[1;33m\u001b[0m\u001b[0m\n",
      "\u001b[1;32m~\\Anaconda3\\lib\\http\\client.py\u001b[0m in \u001b[0;36mbegin\u001b[1;34m(self)\u001b[0m\n\u001b[0;32m    295\u001b[0m         \u001b[1;31m# read until we get a non-100 response\u001b[0m\u001b[1;33m\u001b[0m\u001b[1;33m\u001b[0m\u001b[0m\n\u001b[0;32m    296\u001b[0m         \u001b[1;32mwhile\u001b[0m \u001b[1;32mTrue\u001b[0m\u001b[1;33m:\u001b[0m\u001b[1;33m\u001b[0m\u001b[0m\n\u001b[1;32m--> 297\u001b[1;33m             \u001b[0mversion\u001b[0m\u001b[1;33m,\u001b[0m \u001b[0mstatus\u001b[0m\u001b[1;33m,\u001b[0m \u001b[0mreason\u001b[0m \u001b[1;33m=\u001b[0m \u001b[0mself\u001b[0m\u001b[1;33m.\u001b[0m\u001b[0m_read_status\u001b[0m\u001b[1;33m(\u001b[0m\u001b[1;33m)\u001b[0m\u001b[1;33m\u001b[0m\u001b[0m\n\u001b[0m\u001b[0;32m    298\u001b[0m             \u001b[1;32mif\u001b[0m \u001b[0mstatus\u001b[0m \u001b[1;33m!=\u001b[0m \u001b[0mCONTINUE\u001b[0m\u001b[1;33m:\u001b[0m\u001b[1;33m\u001b[0m\u001b[0m\n\u001b[0;32m    299\u001b[0m                 \u001b[1;32mbreak\u001b[0m\u001b[1;33m\u001b[0m\u001b[0m\n",
      "\u001b[1;32m~\\Anaconda3\\lib\\http\\client.py\u001b[0m in \u001b[0;36m_read_status\u001b[1;34m(self)\u001b[0m\n\u001b[0;32m    256\u001b[0m \u001b[1;33m\u001b[0m\u001b[0m\n\u001b[0;32m    257\u001b[0m     \u001b[1;32mdef\u001b[0m \u001b[0m_read_status\u001b[0m\u001b[1;33m(\u001b[0m\u001b[0mself\u001b[0m\u001b[1;33m)\u001b[0m\u001b[1;33m:\u001b[0m\u001b[1;33m\u001b[0m\u001b[0m\n\u001b[1;32m--> 258\u001b[1;33m         \u001b[0mline\u001b[0m \u001b[1;33m=\u001b[0m \u001b[0mstr\u001b[0m\u001b[1;33m(\u001b[0m\u001b[0mself\u001b[0m\u001b[1;33m.\u001b[0m\u001b[0mfp\u001b[0m\u001b[1;33m.\u001b[0m\u001b[0mreadline\u001b[0m\u001b[1;33m(\u001b[0m\u001b[0m_MAXLINE\u001b[0m \u001b[1;33m+\u001b[0m \u001b[1;36m1\u001b[0m\u001b[1;33m)\u001b[0m\u001b[1;33m,\u001b[0m \u001b[1;34m\"iso-8859-1\"\u001b[0m\u001b[1;33m)\u001b[0m\u001b[1;33m\u001b[0m\u001b[0m\n\u001b[0m\u001b[0;32m    259\u001b[0m         \u001b[1;32mif\u001b[0m \u001b[0mlen\u001b[0m\u001b[1;33m(\u001b[0m\u001b[0mline\u001b[0m\u001b[1;33m)\u001b[0m \u001b[1;33m>\u001b[0m \u001b[0m_MAXLINE\u001b[0m\u001b[1;33m:\u001b[0m\u001b[1;33m\u001b[0m\u001b[0m\n\u001b[0;32m    260\u001b[0m             \u001b[1;32mraise\u001b[0m \u001b[0mLineTooLong\u001b[0m\u001b[1;33m(\u001b[0m\u001b[1;34m\"status line\"\u001b[0m\u001b[1;33m)\u001b[0m\u001b[1;33m\u001b[0m\u001b[0m\n",
      "\u001b[1;32m~\\Anaconda3\\lib\\socket.py\u001b[0m in \u001b[0;36mreadinto\u001b[1;34m(self, b)\u001b[0m\n\u001b[0;32m    584\u001b[0m         \u001b[1;32mwhile\u001b[0m \u001b[1;32mTrue\u001b[0m\u001b[1;33m:\u001b[0m\u001b[1;33m\u001b[0m\u001b[0m\n\u001b[0;32m    585\u001b[0m             \u001b[1;32mtry\u001b[0m\u001b[1;33m:\u001b[0m\u001b[1;33m\u001b[0m\u001b[0m\n\u001b[1;32m--> 586\u001b[1;33m                 \u001b[1;32mreturn\u001b[0m \u001b[0mself\u001b[0m\u001b[1;33m.\u001b[0m\u001b[0m_sock\u001b[0m\u001b[1;33m.\u001b[0m\u001b[0mrecv_into\u001b[0m\u001b[1;33m(\u001b[0m\u001b[0mb\u001b[0m\u001b[1;33m)\u001b[0m\u001b[1;33m\u001b[0m\u001b[0m\n\u001b[0m\u001b[0;32m    587\u001b[0m             \u001b[1;32mexcept\u001b[0m \u001b[0mtimeout\u001b[0m\u001b[1;33m:\u001b[0m\u001b[1;33m\u001b[0m\u001b[0m\n\u001b[0;32m    588\u001b[0m                 \u001b[0mself\u001b[0m\u001b[1;33m.\u001b[0m\u001b[0m_timeout_occurred\u001b[0m \u001b[1;33m=\u001b[0m \u001b[1;32mTrue\u001b[0m\u001b[1;33m\u001b[0m\u001b[0m\n",
      "\u001b[1;31mKeyboardInterrupt\u001b[0m: "
     ]
    }
   ],
   "source": [
    "newPos = 5724 * 5.5\n",
    "while (newPos <= lenOfPage):\n",
    "\tprint('Number of events:', len(events))\n",
    "\tprint('position pre-loop:', newPos) #for testing\n",
    "\twriteevents(events, writer, driver)\n",
    "\toffprep = paste([\"var offprep = window.screen.height * \"], [(len(events))/8], [\";return offprep\"], sep='') #7 fit on a page, giving myself room for error\n",
    "\toffprep = ''.join(offprep)\n",
    "\toffset = driver.execute_script(offprep)\n",
    "\tnewPos = newPos + offset\n",
    "\tscrollerArg = paste([\"window.scrollTo(0, \"], [newPos], [\");\"], sep = '')\n",
    "\tscrollerArg = ''.join(scrollerArg)\n",
    "\tscroller = driver.execute_script(scrollerArg)\n",
    "\tprint(newPos)\n",
    "\tevents = wait_event.until(EC.presence_of_all_elements_located((By.XPATH,\n",
    "\t\t\t\t'//div[@class=\"results-table results-table--events\"]')))\n",
    "\tprint('Number of events:', len(events)) #testing\n",
    "\tprint('current position:', newPos) #testing\n",
    "print('Complete.')\n",
    "csv_file.close()\n",
    "driver.close()"
   ]
  },
  {
   "cell_type": "code",
   "execution_count": 522,
   "metadata": {},
   "outputs": [],
   "source": [
    "csv_file.close()"
   ]
  },
  {
   "cell_type": "code",
   "execution_count": 507,
   "metadata": {},
   "outputs": [
    {
     "name": "stdout",
     "output_type": "stream",
     "text": [
      "http://www.axs.com/events/348868/mgmt-tickets,MAR,26,MON,MGMT,\"Brooklyn Steel,\",Brooklyn NY,\"Brooklyn, NY - 8:00 PM\",Price: $45.00\n",
      "http://www.axs.com/events/346097/rob-bell-tickets,MAR,26,MON,Rob Bell,\"Music Hall of Williamsburg,\",Brooklyn NY,\"Brooklyn, NY - 8:30 PM\",Price: $35.00 - $60.00\n",
      "http://www.axs.com/events/347896/dead-meadow-tickets,MAR,26,MON,Dead Meadow,\"Rough Trade NYC,\",Brooklyn NY,\"Brooklyn, NY - 8:30 PM\",Price: $18.00\n",
      "http://www.axs.com/events/345171/dan-auerbach-the-easy-eye-sound-revue-featuring-robert-finley-shannon-tickets,MAR,27,TUE,\"Dan Auerbach & The Easy Eye Sound Revue featuring Robert Finley, Shannon Shaw\",\"Brooklyn Steel,\",Brooklyn NY,\"Brooklyn, NY - 8:00 PM\",Price: $45.00\n",
      "http://www.axs.com/events/344133/the-strypes-tickets,MAR,27,TUE,The Strypes,\"Rough Trade NYC,\",Brooklyn NY,\"Brooklyn, NY - 9:00 PM\",Price: $15.00\n",
      "http://www.axs.com/events/345955/marlon-williams-tickets,MAR,27,TUE,Marlon Williams,\"Music Hall of Williamsburg,\",Brooklyn NY,\"Brooklyn, NY - 9:00 PM\",Price: $18.00\n",
      "http://www.axs.com/events/346268/darlingside-tickets,MAR,28,WED,Darlingside,\"Rough Trade NYC,\",Brooklyn NY,\"Brooklyn, NY - 7:00 PM\",Price: $16.00\n",
      "http://www.axs.com/events/346152/billy-joel-in-concert-tickets,MAR,28,WED,Billy Joel - In Concert,\"Madison Square Garden,\",New York City NY,\"New York City, NY - 8:00 PM\",\n",
      "http://www.axs.com/events/346765/dan-auerbach-and-the-easy-eye-sound-revue-featuring-robert-finley-and-tickets,MAR,28,WED,Dan Auerbach and The Easy Eye Sound Revue featuring Robert Finley and Shannon Shaw,\"The Capitol Theatre,\",Port Chester NY,\"Port Chester, NY - 8:00 PM\",Price: $39.50 - $55.00\n",
      "http://www.axs.com/events/349385/albert-hammond-jr-tickets,MAR,28,WED,Albert Hammond Jr,\"Brooklyn Steel,\",Brooklyn NY,\"Brooklyn, NY - 8:30 PM\",Price: $20.00\n",
      "http://www.axs.com/events/346831/the-soft-moon-tickets,MAR,28,WED,The Soft Moon,\"Music Hall of Williamsburg,\",Brooklyn NY,\"Brooklyn, NY - 9:00 PM\",Price: $16.00\n",
      "http://www.axs.com/events/346269/darlingside-tickets,MAR,28,WED,Darlingside,\"Rough Trade NYC,\",Brooklyn NY,\"Brooklyn, NY - 10:00 PM\",Price: $16.00\n",
      "http://www.axs.com/events/349792/steel-panther-sunset-strip-live-tickets,MAR,29,THU,Steel Panther - Sunset Strip Live,\"Starland Ballroom,\",Sayreville NJ,\"Sayreville, NJ - 7:00 PM\",Price: $26.50\n",
      "http://www.axs.com/events/347259/dashboard-confessional-tickets,MAR,29,THU,Dashboard Confessional,\"Brooklyn Steel,\",Brooklyn NY,\"Brooklyn, NY - 8:00 PM\",\n",
      "http://www.axs.com/events/345011/s-carey-tickets,MAR,29,THU,S. Carey,\"Rough Trade NYC,\",Brooklyn NY,\"Brooklyn, NY - 9:00 PM\",Price: $18.00\n",
      "http://www.axs.com/events/345855/monster-magnet-tickets,MAR,29,THU,Monster Magnet,\"Music Hall of Williamsburg,\",Brooklyn NY,\"Brooklyn, NY - 9:00 PM\",Price: $25.00\n",
      "http://www.axs.com/events/345831/monster-magnet-tickets,MAR,30,FRI,Monster Magnet,\"Starland Ballroom,\",Sayreville NJ,\"Sayreville, NJ - 6:00 PM\",Price: $19.99\n",
      "http://www.axs.com/events/348868/mgmt-tickets,MAR,26,MON,MGMT,\"Brooklyn Steel,\",Brooklyn NY,\"Brooklyn, NY - 8:00 PM\",Price: $45.00\n",
      "http://www.axs.com/events/349085/anomalie-tickets,MAR,16,FRI,Anomalie,\"Rough Trade NYC,\",Brooklyn NY,\"Brooklyn, NY - 9:00 PM\",Price: $12.00\n",
      "http://www.axs.com/events/347896/dead-meadow-tickets,MAR,26,MON,Dead Meadow,\"Rough Trade NYC,\",Brooklyn NY,\"Brooklyn, NY - 8:30 PM\",Price: $18.00\n",
      "http://www.axs.com/events/345171/dan-auerbach-the-easy-eye-sound-revue-featuring-robert-finley-shannon-tickets,MAR,27,TUE,\"Dan Auerbach & The Easy Eye Sound Revue featuring Robert Finley, Shannon Shaw\",\"Brooklyn Steel,\",Brooklyn NY,\"Brooklyn, NY - 8:00 PM\",Price: $45.00\n",
      "http://www.axs.com/events/344133/the-strypes-tickets,MAR,27,TUE,The Strypes,\"Rough Trade NYC,\",Brooklyn NY,\"Brooklyn, NY - 9:00 PM\",Price: $15.00\n",
      "http://www.axs.com/events/345955/marlon-williams-tickets,MAR,27,TUE,Marlon Williams,\"Music Hall of Williamsburg,\",Brooklyn NY,\"Brooklyn, NY - 9:00 PM\",Price: $18.00\n",
      "http://www.axs.com/events/346268/darlingside-tickets,MAR,28,WED,Darlingside,\"Rough Trade NYC,\",Brooklyn NY,\"Brooklyn, NY - 7:00 PM\",Price: $16.00\n",
      "http://www.axs.com/events/346152/billy-joel-in-concert-tickets,MAR,28,WED,Billy Joel - In Concert,\"Madison Square Garden,\",New York City NY,\"New York City, NY - 8:00 PM\",\n",
      "http://www.axs.com/events/346765/dan-auerbach-and-the-easy-eye-sound-revue-featuring-robert-finley-and-tickets,MAR,28,WED,Dan Auerbach and The Easy Eye Sound Revue featuring Robert Finley and Shannon Shaw,\"The Capitol Theatre,\",Port Chester NY,\"Port Chester, NY - 8:00 PM\",Price: $39.50 - $55.00\n",
      "http://www.axs.com/events/349385/albert-hammond-jr-tickets,MAR,28,WED,Albert Hammond Jr,\"Brooklyn Steel,\",Brooklyn NY,\"Brooklyn, NY - 8:30 PM\",Price: $20.00\n",
      "http://www.axs.com/events/346831/the-soft-moon-tickets,MAR,28,WED,The Soft Moon,\"Music Hall of Williamsburg,\",Brooklyn NY,\"Brooklyn, NY - 9:00 PM\",Price: $16.00\n",
      "http://www.axs.com/events/346269/darlingside-tickets,MAR,28,WED,Darlingside,\"Rough Trade NYC,\",Brooklyn NY,\"Brooklyn, NY - 10:00 PM\",Price: $16.00\n",
      "http://www.axs.com/events/349792/steel-panther-sunset-strip-live-tickets,MAR,29,THU,Steel Panther - Sunset Strip Live,\"Starland Ballroom,\",Sayreville NJ,\"Sayreville, NJ - 7:00 PM\",Price: $26.50\n",
      "http://www.axs.com/events/347259/dashboard-confessional-tickets,MAR,29,THU,Dashboard Confessional,\"Brooklyn Steel,\",Brooklyn NY,\"Brooklyn, NY - 8:00 PM\",\n",
      "http://www.axs.com/events/345011/s-carey-tickets,MAR,29,THU,S. Carey,\"Rough Trade NYC,\",Brooklyn NY,\"Brooklyn, NY - 9:00 PM\",Price: $18.00\n",
      "http://www.axs.com/events/345855/monster-magnet-tickets,MAR,29,THU,Monster Magnet,\"Music Hall of Williamsburg,\",Brooklyn NY,\"Brooklyn, NY - 9:00 PM\",Price: $25.00\n",
      "http://www.axs.com/events/345831/monster-magnet-tickets,MAR,30,FRI,Monster Magnet,\"Starland Ballroom,\",Sayreville NJ,\"Sayreville, NJ - 6:00 PM\",Price: $19.99\n",
      "http://www.axs.com/events/348324/the-lone-bellow-tickets,MAR,30,FRI,The Lone Bellow,\"Town Hall,\",New York City NY,\"New York City, NY - 8:00 PM\",Price: $35.00\n",
      "http://www.axs.com/events/349804/lil-xan-tickets,MAR,30,FRI,Lil Xan,\"Brooklyn Steel,\",Brooklyn NY,\"Brooklyn, NY - 8:00 PM\",Price: $30.00\n",
      "http://www.axs.com/events/348465/hanni-el-khatib-tickets,MAR,30,FRI,Hanni El Khatib,\"Rough Trade NYC,\",Brooklyn NY,\"Brooklyn, NY - 9:00 PM\",Price: $18.00\n",
      "http://www.axs.com/events/349811/young-m-a-tickets,MAR,30,FRI,Young M.A.,\"Music Hall of Williamsburg,\",Brooklyn NY,\"Brooklyn, NY - 9:00 PM\",Price: $20.00 - $95.00\n",
      "http://www.axs.com/events/349481/lil-xan-tickets,MAR,31,SAT,Lil Xan,\"Starland Ballroom,\",Sayreville NJ,\"Sayreville, NJ - 7:00 PM\",\n",
      "http://www.axs.com/events/348575/amen-dunes-tickets,MAR,31,SAT,Amen Dunes,\"Music Hall of Williamsburg,\",Brooklyn NY,\"Brooklyn, NY - 9:00 PM\",Starting from: $20.00\n",
      "http://www.axs.com/events/348621/tokimonsta-tickets,MAR,31,SAT,TOKiMONSTA,\"Brooklyn Steel,\",Brooklyn NY,\"Brooklyn, NY - 9:00 PM\",\n",
      "http://www.axs.com/events/349837/open-mike-eagle-tickets,MAR,31,SAT,Open Mike Eagle,\"Rough Trade NYC,\",Brooklyn NY,\"Brooklyn, NY - 9:00 PM\",Price: $15.00\n",
      "http://www.axs.com/events/349885/jared-the-mill-tickets,APR,2,MON,Jared & The Mill,\"Rough Trade NYC,\",Brooklyn NY,\"Brooklyn, NY - 8:30 PM\",Starting from: $12.00\n",
      "http://www.axs.com/events/346768/caroline-rose-tickets,APR,3,TUE,Caroline Rose,\"Rough Trade NYC,\",Brooklyn NY,\"Brooklyn, NY - 9:00 PM\",Price: $12.00\n",
      "http://www.axs.com/events/338210/lorde-tickets,APR,4,WED,Lorde,\"Barclays Center,\",Brooklyn NY,\"Brooklyn, NY - 7:00 PM\",\n",
      "http://www.axs.com/events/348783/between-the-buried-and-me-the-dear-hunter-tickets,APR,4,WED,Between the Buried and Me & The Dear Hunter,\"PlayStation Theater,\",New York NY,\"New York, NY - 7:00 PM\",\n",
      "http://www.axs.com/events/347533/daughtry-tickets,APR,4,WED,Daughtry,\"The Capitol Theatre,\",Port Chester NY,\"Port Chester, NY - 8:00 PM\",Price: $45.00 - $89.50\n",
      "http://www.axs.com/events/345166/kelsea-ballerini-tickets,APR,5,THU,Kelsea Ballerini,\"PlayStation Theater,\",New York NY,\"New York, NY - 7:30 PM\",\n",
      "http://www.axs.com/events/346217/brandi-carlile-tickets,APR,5,THU,Brandi Carlile,\"Beacon Theatre,\",New York City NY,\"New York City, NY - 8:00 PM\",Price: $41.50 - $81.50\n",
      "http://www.axs.com/events/348561/the-black-angels-tickets,APR,5,THU,The Black Angels,\"Brooklyn Steel,\",Brooklyn NY,\"Brooklyn, NY - 8:30 PM\",Price: $30.00\n",
      "http://www.axs.com/events/342183/l-a-salami-tickets,APR,5,THU,L.A. Salami,\"Rough Trade NYC,\",Brooklyn NY,\"Brooklyn, NY - 9:00 PM\",Price: $18.00\n",
      "http://www.axs.com/events/348071/superorganism-tickets,APR,5,THU,Superorganism,\"Music Hall of Williamsburg,\",Brooklyn NY,\"Brooklyn, NY - 9:00 PM\",Price: $15.00\n",
      "http://www.axs.com/events/346218/brandi-carlile-tickets,APR,6,FRI,Brandi Carlile,\"Beacon Theatre,\",New York City NY,\"New York City, NY - 8:00 AM\",Price: $41.50 - $81.50\n",
      "http://www.axs.com/events/344947/kelsea-ballerini-tickets,APR,6,FRI,Kelsea Ballerini,\"Starland Ballroom,\",Sayreville NJ,\"Sayreville, NJ - 6:30 PM\",Price: $35.00 - $149.00\n",
      "http://www.axs.com/events/338211/lorde-tickets,APR,6,FRI,Lorde,\"Prudential Center,\",Newark NJ,\"Newark, NJ - 7:00 PM\",\n",
      "http://www.axs.com/events/346815/yo-la-tengo-tickets,APR,6,FRI,Yo La Tengo,\"Brooklyn Steel,\",Brooklyn NY,\"Brooklyn, NY - 8:00 PM\",Price: $35.00\n",
      "http://www.axs.com/events/345507/ought-tickets,APR,6,FRI,Ought,\"Music Hall of Williamsburg,\",Brooklyn NY,\"Brooklyn, NY - 9:00 PM\",Price: $16.00\n",
      "http://www.axs.com/events/349836/mo-lowda-the-humble-ep-release-tickets,APR,6,FRI,Mo Lowda & The Humble (EP Release),\"Rough Trade NYC,\",Brooklyn NY,\"Brooklyn, NY - 9:00 PM\",Price: $12.00\n",
      "http://www.axs.com/events/346761/brandi-carlile-tickets,APR,7,SAT,Brandi Carlile,\"Beacon Theatre,\",New York City NY,\"New York City, NY - 8:00 PM\",Price: $41.50 - $81.50\n",
      "http://www.axs.com/events/348849/kix-tickets,APR,7,SAT,Kix,\"The Space at Westbury,\",Westbury NY,\"Westbury, NY - 8:00 PM\",Price: $29.00 - $49.00\n",
      "http://www.axs.com/events/349290/lotus-tickets,APR,7,SAT,Lotus,\"The Capitol Theatre,\",Port Chester NY,\"Port Chester, NY - 8:00 PM\",Price: $25.00 - $35.00\n",
      "http://www.axs.com/events/345645/public-access-t-v-tickets,APR,7,SAT,Public Access T.V.,\"Music Hall of Williamsburg,\",Brooklyn NY,\"Brooklyn, NY - 8:30 PM\",Price: $15.00\n",
      "http://www.axs.com/events/346409/cigarettes-after-sex-tickets,APR,7,SAT,Cigarettes After Sex,\"Brooklyn Steel,\",Brooklyn NY,\"Brooklyn, NY - 9:00 PM\",Price: $25.00\n",
      "http://www.axs.com/events/347011/krane-tickets,APR,7,SAT,KRANE,\"Rough Trade NYC,\",Brooklyn NY,\"Brooklyn, NY - 10:45 PM\",Price: $15.00\n",
      "http://www.axs.com/events/348065/straight-no-chaser-tickets,APR,8,SUN,Straight No Chaser,\"Count Basie Theatre,\",Red Bank NJ,\"Red Bank, NJ - 7:30 PM\",\n",
      "http://www.axs.com/events/349380/rainbow-kitten-surprise-tickets,APR,10,TUE,Rainbow Kitten Surprise,\"Brooklyn Steel,\",Brooklyn NY,\"Brooklyn, NY - 8:00 PM\",Price: $25.00\n",
      "http://www.axs.com/events/349810/mallrat-tickets,APR,10,TUE,Mallrat,\"Rough Trade NYC,\",Brooklyn NY,\"Brooklyn, NY - 8:30 PM\",Price: $10.00\n",
      "http://www.axs.com/events/348480/rainbow-kitten-surprise-tickets,APR,11,WED,Rainbow Kitten Surprise,\"Brooklyn Steel,\",Brooklyn NY,\"Brooklyn, NY - 8:00 PM\",Price: $25.00\n",
      "http://www.axs.com/events/348809/mome-tickets,APR,11,WED,Møme,\"Rough Trade NYC,\",Brooklyn NY,\"Brooklyn, NY - 9:00 PM\",Price: $15.00\n",
      "http://www.axs.com/events/347736/della-mae-tickets,APR,12,THU,Della Mae,\"Rough Trade NYC,\",Brooklyn NY,\"Brooklyn, NY - 9:00 PM\",Price: $15.00\n",
      "http://www.axs.com/events/347310/john-prine-sturgill-simpson-tickets,APR,13,FRI,John Prine & Sturgill Simpson,\"Radio City Music Hall,\",New York City NY,\"New York City, NY - 8:00 PM\",Price: $51.50 - $137.50\n",
      "http://www.axs.com/events/347420/billy-joel-in-concert-tickets,APR,13,FRI,Billy Joel - In Concert,\"Madison Square Garden,\",New York City NY,\"New York City, NY - 8:00 PM\",\n",
      "http://www.axs.com/events/347130/khruangbin-tickets,APR,13,FRI,Khruangbin,\"Music Hall of Williamsburg,\",Brooklyn NY,\"Brooklyn, NY - 9:00 PM\",Price: $20.00\n",
      "http://www.axs.com/events/347293/ty-segall-and-the-freedom-band-tickets,APR,13,FRI,Ty Segall and The Freedom Band,\"Brooklyn Steel,\",Brooklyn NY,\"Brooklyn, NY - 9:00 PM\",Price: $27.00\n",
      "http://www.axs.com/events/348260/the-feelies-tickets,APR,13,FRI,The Feelies,\"Rough Trade NYC,\",Brooklyn NY,\"Brooklyn, NY - 9:00 PM\",Price: $25.00\n",
      "http://www.axs.com/events/347453/ty-segall-tickets,APR,14,SAT,Ty Segall,\"The Capitol Theatre,\",Port Chester NY,\"Port Chester, NY - 8:00 PM\",Price: $25.00 - $35.00\n",
      "http://www.axs.com/events/349124/thirdstory-tickets,APR,14,SAT,Thirdstory,\"Brooklyn Steel,\",Brooklyn NY,\"Brooklyn, NY - 8:00 PM\",\n",
      "http://www.axs.com/events/347243/a-ap-ferg-tickets,APR,14,SAT,A$AP Ferg,\"Terminal 5,\",New York NY,\"New York, NY - 9:00 PM\",Price: $35.00 - $149.00\n",
      "http://www.axs.com/events/350045/stephen-malkmus-the-jicks-tickets,JUN,15,FRI,Stephen Malkmus & the Jicks,\"Music Hall of Williamsburg,\",Brooklyn NY,\"Brooklyn, NY - 9:00 PM\",\n",
      "http://www.axs.com/events/348261/the-feelies-tickets,APR,14,SAT,The Feelies,\"Rough Trade NYC,\",Brooklyn NY,\"Brooklyn, NY - 9:00 PM\",Price: $25.00\n",
      "http://www.axs.com/events/347414/the-midnight-tickets,MAR,16,FRI,The Midnight,\"Music Hall of Williamsburg,\",Brooklyn NY,\"Brooklyn, NY - 9:00 PM\",Price: $16.00\n",
      "http://www.axs.com/events/349085/anomalie-tickets,MAR,16,FRI,Anomalie,\"Rough Trade NYC,\",Brooklyn NY,\"Brooklyn, NY - 9:00 PM\",Price: $12.00\n",
      "http://www.axs.com/events/348753/khruangbin-tickets,APR,14,SAT,Khruangbin,\"Music Hall of Williamsburg,\",Brooklyn NY,\"Brooklyn, NY - 9:00 PM\",Starting from: $20.00\n",
      "http://www.axs.com/events/347890/franz-ferdinand-tickets,APR,15,SUN,Franz Ferdinand,\"Brooklyn Steel,\",Brooklyn NY,\"Brooklyn, NY - 8:00 PM\",Price: $33.00\n",
      "http://www.axs.com/events/349602/the-feelies-tickets,APR,15,SUN,The Feelies,\"Rough Trade NYC,\",Brooklyn NY,\"Brooklyn, NY - 8:00 PM\",Price: $25.00\n",
      "http://www.axs.com/events/344945/franz-ferdinand-tickets,APR,16,MON,Franz Ferdinand,\"Brooklyn Steel,\",Brooklyn NY,\"Brooklyn, NY - 8:00 PM\",Price: $33.00\n",
      "http://www.axs.com/events/337526/clean-bandit-tickets,APR,17,TUE,Clean Bandit,\"Brooklyn Steel,\",Brooklyn NY,\"Brooklyn, NY - 8:00 PM\",Price: $27.00\n",
      "http://www.axs.com/events/348126/as-the-crow-flies-tickets,APR,17,TUE,As The Crow Flies,\"The Capitol Theatre,\",Port Chester NY,\"Port Chester, NY - 8:00 PM\",Price: $35.00 - $65.00\n",
      "http://www.axs.com/events/348514/the-afghan-whigs-built-to-spill-tickets,APR,18,WED,The Afghan Whigs & Built to Spill,\"Brooklyn Steel,\",Brooklyn NY,\"Brooklyn, NY - 8:00 PM\",Price: $40.00\n",
      "http://www.axs.com/events/348701/charlotte-cardin-tickets,APR,18,WED,Charlotte Cardin,\"Rough Trade NYC,\",Brooklyn NY,\"Brooklyn, NY - 8:40 PM\",Price: $15.00\n",
      "http://www.axs.com/events/349480/rodney-atkins-tickets,APR,19,THU,Rodney Atkins,\"Starland Ballroom,\",Sayreville NJ,\"Sayreville, NJ - 7:00 PM\",\n",
      "http://www.axs.com/events/348463/preoccupations-tickets,APR,19,THU,Preoccupations,\"Rough Trade NYC,\",Brooklyn NY,\"Brooklyn, NY - 9:00 PM\",Price: $15.00\n",
      "http://www.axs.com/events/347267/jimmy-kenny-and-the-pirate-beach-band-tickets,APR,20,FRI,Jimmy Kenny and The Pirate Beach Band,\"Starland Ballroom,\",Sayreville NJ,\"Sayreville, NJ - 7:30 PM\",Price: $15.00\n",
      "http://www.axs.com/events/343545/the-darkness-tickets,APR,20,FRI,The Darkness,\"Brooklyn Steel,\",Brooklyn NY,\"Brooklyn, NY - 8:00 PM\",\n",
      "http://www.axs.com/events/347600/todrick-hall-american-tickets,APR,20,FRI,Todrick Hall American,\"PlayStation Theater,\",New York NY,\"New York, NY - 8:00 PM\",\n",
      "http://www.axs.com/events/347885/penguin-prison-tickets,APR,20,FRI,Penguin Prison,\"Music Hall of Williamsburg,\",Brooklyn NY,\"Brooklyn, NY - 9:00 PM\",Price: $22.00\n",
      "http://www.axs.com/events/348606/sure-sure-tickets,APR,20,FRI,Sure Sure,\"Rough Trade NYC,\",Brooklyn NY,\"Brooklyn, NY - 9:00 PM\",Price: $15.00\n",
      "http://www.axs.com/events/343245/the-darkness-tickets,APR,21,SAT,The Darkness,\"Starland Ballroom,\",Sayreville NJ,\"Sayreville, NJ - 7:00 PM\",Price: $25.00\n",
      "http://www.axs.com/events/343914/why-don-t-we-tickets,APR,21,SAT,Why Don't We,\"PlayStation Theater,\",New York NY,\"New York, NY - 7:00 PM\",\n",
      "http://www.axs.com/events/346099/ajr-tickets,APR,21,SAT,AJR,\"Terminal 5,\",New York NY,\"New York, NY - 8:00 PM\",Price: $25.00\n",
      "http://www.axs.com/events/347704/iamx-tickets,APR,21,SAT,IAMX,\"Rough Trade NYC,\",Brooklyn NY,\"Brooklyn, NY - 9:00 PM\",Price: $22.00\n",
      "http://www.axs.com/events/349316/sofi-tukker-tickets,APR,21,SAT,Sofi Tukker,\"Brooklyn Steel,\",Brooklyn NY,\"Brooklyn, NY - 9:00 PM\",Price: $26.00\n",
      "http://www.axs.com/events/349652/animal-years-tickets,APR,21,SAT,Animal Years,\"Music Hall of Williamsburg,\",Brooklyn NY,\"Brooklyn, NY - 9:00 PM\",Price: $15.00\n",
      "http://www.axs.com/events/343915/why-don-t-we-tickets,APR,22,SUN,Why Don't We,\"PlayStation Theater,\",New York NY,\"New York, NY - 7:00 PM\",\n",
      "http://www.axs.com/events/349189/iamx-tickets,APR,22,SUN,IAMX,\"Rough Trade NYC,\",Brooklyn NY,\"Brooklyn, NY - 9:00 PM\",Starting from: $22.00\n",
      "http://www.axs.com/events/343916/why-don-t-we-tickets,APR,23,MON,Why Don't We,\"PlayStation Theater,\",New York NY,\"New York, NY - 7:00 PM\",\n",
      "http://www.axs.com/events/347601/todrick-hall-american-tickets,APR,24,TUE,Todrick Hall American,\"iPlay America’s Event Center,\",Freehold NJ,\"Freehold, NJ - 7:30 PM\",\n",
      "http://www.axs.com/events/348823/george-ezra-tickets,APR,24,TUE,George Ezra,\"Terminal 5,\",New York NY,\"New York, NY - 8:00 PM\",Price: $35.00\n",
      "http://www.axs.com/events/345613/why-don-t-we-tickets,APR,25,WED,Why Don't We,\"Starland Ballroom,\",Sayreville NJ,\"Sayreville, NJ - 6:00 PM\",Price: $29.50\n",
      "http://www.axs.com/events/346638/raphael-tickets,APR,25,WED,Raphael,\"Beacon Theatre,\",New York City NY,\"New York City, NY - 8:00 PM\",Price: $59.50 - $119.50\n",
      "http://www.axs.com/events/350014/dagny-tickets,APR,25,WED,DAGNY,\"Rough Trade NYC,\",Brooklyn NY,\"Brooklyn, NY - 8:00 PM\",\n",
      "http://www.axs.com/events/348903/unknown-mortal-orchestra-tickets,APR,25,WED,Unknown Mortal Orchestra,\"Brooklyn Steel,\",Brooklyn NY,\"Brooklyn, NY - 9:00 PM\",Price: $30.00\n",
      "http://www.axs.com/events/346262/killswitch-engage-tickets,APR,26,THU,Killswitch Engage,\"Starland Ballroom,\",Sayreville NJ,\"Sayreville, NJ - 6:00 PM\",Price: $26.00 - $250.00\n",
      "http://www.axs.com/events/348904/unknown-mortal-orchestra-tickets,APR,26,THU,Unknown Mortal Orchestra,\"Brooklyn Steel,\",Brooklyn NY,\"Brooklyn, NY - 9:00 PM\",Price: $30.00\n",
      "http://www.axs.com/events/349194/cut-chemist-tickets,APR,26,THU,Cut Chemist,\"Music Hall of Williamsburg,\",Brooklyn NY,\"Brooklyn, NY - 9:00 PM\",Price: $20.00\n",
      "http://www.axs.com/events/348826/mr-jukes-tickets,APR,26,THU,Mr Jukes,\"Rough Trade NYC,\",Brooklyn NY,\"Brooklyn, NY - 10:00 PM\",Price: $16.00\n",
      "http://www.axs.com/events/347081/blue-october-tickets,APR,27,FRI,Blue October,\"Starland Ballroom,\",Sayreville NJ,\"Sayreville, NJ - 7:00 PM\",Price: $27.00\n",
      "http://www.axs.com/events/339091/peter-hook-the-light-tickets,APR,27,FRI,Peter Hook & The Light,\"Brooklyn Steel,\",Brooklyn NY,\"Brooklyn, NY - 8:00 PM\",Price: $25.00\n",
      "http://www.axs.com/events/349779/gov-t-mule-tickets,APR,27,FRI,Gov't Mule,\"The Capitol Theatre,\",Port Chester NY,\"Port Chester, NY - 8:00 PM\",Price: $40.00 - $55.00\n",
      "http://www.axs.com/events/346461/durand-jones-the-indications-tickets,APR,27,FRI,Durand Jones & the Indications,\"Music Hall of Williamsburg,\",Brooklyn NY,\"Brooklyn, NY - 9:00 PM\",Price: $15.00\n",
      "http://www.axs.com/events/350012/okkervil-river-album-release-show-tickets,APR,27,FRI,Okkervil River Album Release Show,\"Rough Trade NYC,\",Brooklyn NY,\"Brooklyn, NY - 9:00 PM\",\n",
      "http://www.axs.com/events/347444/6ix9ine-tickets,APR,28,SAT,6ix9ine,\"Lake Terrace,\",Lakewood NJ,\"Lakewood, NJ - 7:00 PM\",Price: $25.00 - $35.00\n",
      "http://www.axs.com/events/343070/steven-wilson-tickets,APR,28,SAT,Steven Wilson,\"PlayStation Theater,\",New York NY,\"New York, NY - 8:00 PM\",\n",
      "http://www.axs.com/events/348417/matt-and-kim-tickets,APR,28,SAT,Matt and Kim,\"Brooklyn Steel,\",Brooklyn NY,\"Brooklyn, NY - 8:00 PM\",Price: $30.00\n",
      "http://www.axs.com/events/349781/gov-t-mule-tickets,APR,28,SAT,Gov't Mule,\"The Capitol Theatre,\",Port Chester NY,\"Port Chester, NY - 8:00 PM\",Price: $40.00 - $55.00\n",
      "http://www.axs.com/events/349982/michigander-tickets,APR,28,SAT,Michigander,\"Rough Trade NYC,\",Brooklyn NY,\"Brooklyn, NY - 8:30 PM\",Starting from: $10.00\n",
      "http://www.axs.com/events/346467/calexico-tickets,APR,28,SAT,Calexico,\"Music Hall of Williamsburg,\",Brooklyn NY,\"Brooklyn, NY - 9:00 PM\",Price: $30.00\n",
      "http://www.axs.com/events/344827/brian-fallon-the-howling-weather-tickets,APR,29,SUN,Brian Fallon & The Howling Weather,\"Starland Ballroom,\",Sayreville NJ,\"Sayreville, NJ - 7:00 PM\",Price: $25.00\n",
      "http://www.axs.com/events/343071/steven-wilson-tickets,APR,29,SUN,Steven Wilson,\"PlayStation Theater,\",New York NY,\"New York, NY - 8:00 PM\",\n",
      "http://www.axs.com/events/348978/matt-and-kim-tickets,APR,29,SUN,Matt and Kim,\"Brooklyn Steel,\",Brooklyn NY,\"Brooklyn, NY - 8:00 PM\",Price: $30.00\n",
      "http://www.axs.com/events/348124/the-breeders-tickets,APR,30,MON,The Breeders,\"Brooklyn Steel,\",Brooklyn NY,\"Brooklyn, NY - 8:00 PM\",Starting from: $30.00\n",
      "http://www.axs.com/events/348642/fickle-friends-tickets,APR,30,MON,Fickle Friends,\"Rough Trade NYC,\",Brooklyn NY,\"Brooklyn, NY - 8:30 PM\",Price: $12.00\n",
      "http://www.axs.com/events/349077/the-breeders-tickets,MAY,1,TUE,The Breeders,\"Terminal 5,\",New York NY,\"New York, NY - 8:00 PM\",Starting from: $35.00\n",
      "http://www.axs.com/events/344932/brian-fallon-the-howling-weather-tickets,MAY,2,WED,Brian Fallon & The Howling Weather,\"Brooklyn Steel,\",Brooklyn NY,\"Brooklyn, NY - 8:00 PM\",Price: $27.50\n",
      "http://www.axs.com/events/348125/the-breeders-tickets,MAY,2,WED,The Breeders,\"The Capitol Theatre,\",Port Chester NY,\"Port Chester, NY - 8:00 PM\",Price: $30.00 - $40.00\n",
      "http://www.axs.com/events/349905/imarhan-tickets,MAY,2,WED,Imarhan,\"Rough Trade NYC,\",Brooklyn NY,\"Brooklyn, NY - 9:00 PM\",Starting from: $15.00\n",
      "http://www.axs.com/events/349367/lord-huron-tickets,MAY,3,THU,Lord Huron,\"Beacon Theatre,\",New York City NY,\"New York City, NY - 8:00 PM\",Price: $39.50 - $59.50\n",
      "http://www.axs.com/events/349721/zoe-tickets,MAY,3,THU,Zoé,\"PlayStation Theater,\",New York NY,\"New York, NY - 8:00 PM\",\n",
      "http://www.axs.com/events/345827/tom-misch-tickets,MAY,3,THU,Tom Misch,\"Brooklyn Steel,\",Brooklyn NY,\"Brooklyn, NY - 9:00 PM\",\n",
      "http://www.axs.com/events/348956/mt-joy-tickets,MAY,3,THU,Mt. Joy,\"Rough Trade NYC,\",Brooklyn NY,\"Brooklyn, NY - 9:00 PM\",Price: $15.00\n",
      "http://www.axs.com/events/345582/the-piano-guys-tickets,MAY,4,FRI,The Piano Guys,\"New Jersey Performing Arts Center,\",Newark NJ,\"Newark, NJ - 8:00 PM\",\n",
      "http://www.axs.com/events/348576/haim-tickets,MAY,4,FRI,HAIM,\"Radio City Music Hall,\",New York City NY,\"New York City, NY - 8:00 PM\",Price: $39.50 - $85.00\n",
      "http://www.axs.com/events/348619/what-so-not-tickets,MAY,4,FRI,What So Not,\"Brooklyn Steel,\",Brooklyn NY,\"Brooklyn, NY - 8:00 PM\",\n",
      "http://www.axs.com/events/349118/king-krule-tickets,MAY,4,FRI,King Krule,\"Manhattan Center's Hammerstein Ballroom,\",New York City NY,\"New York City, NY - 8:00 PM\",Price: $35.00\n",
      "http://www.axs.com/events/349425/soccer-mommy-tickets,MAY,4,FRI,Soccer Mommy,\"Rough Trade NYC,\",Brooklyn NY,\"Brooklyn, NY - 9:00 PM\",Price: $12.00\n",
      "http://www.axs.com/events/349794/louie-devito-third-annual-nyc-underground-classics-party-tickets,MAY,5,SAT,Louie DeVito Third Annual NYC Underground Classics Party,\"Starland Ballroom,\",Sayreville NJ,\"Sayreville, NJ - 7:30 PM\",\n",
      "http://www.axs.com/events/347545/panda-bear-tickets,MAY,5,SAT,Panda Bear,\"Brooklyn Steel,\",Brooklyn NY,\"Brooklyn, NY - 8:00 PM\",Price: $25.00\n",
      "http://www.axs.com/events/347640/natalia-lafourcade-tickets,MAY,5,SAT,Natalia Lafourcade,\"Terminal 5,\",New York NY,\"New York, NY - 8:00 PM\",Price: $25.00 - $35.00\n",
      "http://www.axs.com/events/348623/the-fab-faux-tickets,MAY,5,SAT,The Fab Faux,\"The Capitol Theatre,\",Port Chester NY,\"Port Chester, NY - 8:00 PM\",Price: $45.00 - $125.00\n",
      "http://www.axs.com/events/349378/haim-tickets,MAY,5,SAT,HAIM,\"Radio City Music Hall,\",New York City NY,\"New York City, NY - 8:00 PM\",Price: $39.50 - $85.00\n",
      "http://www.axs.com/events/348791/brazilian-girls-tickets,MAY,5,SAT,Brazilian Girls,\"Music Hall of Williamsburg,\",Brooklyn NY,\"Brooklyn, NY - 9:00 PM\",Price: $20.00\n",
      "http://www.axs.com/events/347441/parkway-drive-tickets,MAY,6,SUN,Parkway Drive,\"Starland Ballroom,\",Sayreville NJ,\"Sayreville, NJ - 6:00 PM\",Price: $23.00\n",
      "http://www.axs.com/events/349099/ani-difranco-tickets,MAY,10,THU,Ani DiFranco,\"Music Hall of Williamsburg,\",Brooklyn NY,\"Brooklyn, NY - 8:00 PM\",Price: $49.00\n",
      "http://www.axs.com/events/348918/greta-van-fleet-tickets,MAY,11,FRI,Greta Van Fleet,\"Starland Ballroom,\",Sayreville NJ,\"Sayreville, NJ - 7:00 PM\",Price: $35.00\n",
      "http://www.axs.com/events/348939/dark-star-orchestra-tickets,MAY,11,FRI,Dark Star Orchestra,\"The Capitol Theatre,\",Port Chester NY,\"Port Chester, NY - 8:00 PM\",Price: $35.00 - $45.00\n",
      "http://www.axs.com/events/349593/marian-hill-tickets,MAY,11,FRI,Marian Hill,\"Brooklyn Steel,\",Brooklyn NY,\"Brooklyn, NY - 8:00 PM\",Price: $32.50\n",
      "http://www.axs.com/events/349469/matthew-logan-vasquez-of-delta-spirit-tickets,MAY,11,FRI,Matthew Logan Vasquez (of Delta Spirit),\"Rough Trade NYC,\",Brooklyn NY,\"Brooklyn, NY - 9:00 PM\",Price: $15.00\n",
      "http://www.axs.com/events/348919/oh-wonder-tickets,MAY,12,SAT,Oh Wonder,\"Starland Ballroom,\",Sayreville NJ,\"Sayreville, NJ - 7:00 PM\",Price: $25.00\n",
      "http://www.axs.com/events/347261/jorja-smith-tickets,MAY,12,SAT,Jorja Smith,\"Brooklyn Steel,\",Brooklyn NY,\"Brooklyn, NY - 8:00 PM\",\n",
      "http://www.axs.com/events/348940/dark-star-orchestra-tickets,MAY,12,SAT,Dark Star Orchestra,\"The Capitol Theatre,\",Port Chester NY,\"Port Chester, NY - 8:00 PM\",Price: $35.00 - $45.00\n",
      "http://www.axs.com/events/349031/rolling-blackouts-coastal-fever-tickets,MAY,12,SAT,Rolling Blackouts Coastal Fever,\"Rough Trade NYC,\",Brooklyn NY,\"Brooklyn, NY - 9:00 PM\",Price: $15.00\n",
      "http://www.axs.com/events/349723/slushii-tickets,MAY,12,SAT,Slushii,\"PlayStation Theater,\",New York NY,\"New York, NY - 9:00 PM\",\n",
      "http://www.axs.com/events/348562/enrique-bunbury-tickets,MAY,13,SUN,Enrique Bunbury,\"Terminal 5,\",New York NY,\"New York, NY - 8:00 PM\",Price: $55.00\n",
      "http://www.axs.com/events/348639/wye-oak-tickets,MAY,15,TUE,Wye Oak,\"Brooklyn Steel,\",Brooklyn NY,\"Brooklyn, NY - 8:00 PM\",Price: $25.00\n",
      "http://www.axs.com/events/343869/the-fratellis-tickets,MAY,16,WED,The Fratellis,\"Brooklyn Steel,\",Brooklyn NY,\"Brooklyn, NY - 8:00 PM\",\n",
      "http://www.axs.com/events/348837/blackberry-smoke-tickets,MAY,17,THU,Blackberry Smoke,\"The Space at Westbury,\",Westbury NY,\"Westbury, NY - 8:00 PM\",Price: $30.00 - $40.00\n",
      "http://www.axs.com/events/348867/shakey-graves-tickets,MAY,17,THU,Shakey Graves,\"Brooklyn Steel,\",Brooklyn NY,\"Brooklyn, NY - 8:00 PM\",Price: $28.00\n",
      "http://www.axs.com/events/349335/yacht-rock-revue-tickets,MAY,17,THU,Yacht Rock Revue,\"PlayStation Theater,\",New York NY,\"New York, NY - 8:00 PM\",\n",
      "http://www.axs.com/events/348756/her-tickets,MAY,17,THU,HER,\"Rough Trade NYC,\",Brooklyn NY,\"Brooklyn, NY - 9:00 PM\",Price: $15.00\n",
      "http://www.axs.com/events/348838/blackberry-smoke-tickets,MAY,18,FRI,Blackberry Smoke,\"The Capitol Theatre,\",Port Chester NY,\"Port Chester, NY - 8:00 PM\",Price: $30.00 - $40.00\n",
      "http://www.axs.com/events/348941/dark-star-orchestra-tickets,MAY,18,FRI,Dark Star Orchestra,\"The Space at Westbury,\",Westbury NY,\"Westbury, NY - 8:00 PM\",Price: $35.00 - $50.00\n",
      "http://www.axs.com/events/349589/king-tuff-tickets,MAY,18,FRI,King Tuff,\"Music Hall of Williamsburg,\",Brooklyn NY,\"Brooklyn, NY - 9:00 PM\",Price: $18.00\n",
      "http://www.axs.com/events/349803/black-coffee-tickets,MAY,18,FRI,Black Coffee,\"Terminal 5,\",New York NY,\"New York, NY - 11:00 PM\",Price: $25.00 - $45.00\n",
      "http://www.axs.com/events/348643/the-fab-faux-tickets,MAY,19,SAT,The Fab Faux,\"The Space at Westbury,\",Westbury NY,\"Westbury, NY - 8:00 PM\",Price: $59.50 - $89.50\n",
      "http://www.axs.com/events/348951/george-fitzgerald-tickets,MAY,19,SAT,George FitzGerald,\"Rough Trade NYC,\",Brooklyn NY,\"Brooklyn, NY - 9:00 PM\",Price: $15.00\n",
      "http://www.axs.com/events/348875/jukebox-the-ghost-tickets,MAY,21,MON,Jukebox the Ghost,\"Brooklyn Steel,\",Brooklyn NY,\"Brooklyn, NY - 8:00 PM\",Price: $25.00 - $60.00\n",
      "http://www.axs.com/events/336280/the-kooks-tickets,MAY,22,TUE,The Kooks,\"Terminal 5,\",New York NY,\"New York, NY - 8:00 PM\",Price: $35.00\n"
     ]
    }
   ],
   "source": [
    "!type axs_events_2018-2-12.csv"
   ]
  },
  {
   "cell_type": "code",
   "execution_count": 253,
   "metadata": {},
   "outputs": [
    {
     "name": "stdout",
     "output_type": "stream",
     "text": [
      "{'sale_url': 'http://www.axs.com/events/346741/railroad-earth-tickets', 'month': 'FEB', 'day': '17', 'weekday': 'SAT', 'performer': 'Railroad Earth', 'venue': 'The Capitol Theatre,', 'city': 'Port Chester NY', 'time': 'Port Chester, NY - 8:00 PM', 'price': 'Price: $25.00 - $35.00'}\n"
     ]
    },
    {
     "data": {
      "text/plain": [
       "174"
      ]
     },
     "execution_count": 253,
     "metadata": {},
     "output_type": "execute_result"
    }
   ],
   "source": [
    "\t\tevent_dict = {}\n",
    "\t\t\n",
    "\t\tlink = events[19].find_element_by_xpath('./div/a')\n",
    "\t\tsale_url = link.get_attribute('href')\n",
    "\t\tmonth = events[19].find_element_by_xpath('./div/a/div[1]/div/div[1]').text\n",
    "\t\tday = events[19].find_element_by_xpath('./div/a/div[1]/div/div[2]').text\n",
    "\t\tweekday = events[19].find_element_by_xpath('./div/a/div[1]/div/div[3]').text\n",
    "\t\tperformer = events[19].find_element_by_xpath('./div/a/div[2]/div[1]').text\n",
    "\t\tvenue = events[19].find_element_by_xpath('./div/a/div[2]/div[2]/span[1]').text\n",
    "\t\tcity = events[19].find_element_by_xpath('./div/a/div[2]/div[2]/span[2]').text\n",
    "\t\ttime.sleep(0.5)\n",
    "\t\t\n",
    "\t\t#navigate to a new page for time and price\n",
    "\t\tdriver.get(sale_url)\n",
    "\t\tnew_page_wait = wait_event.until(EC.presence_of_all_elements_located((By.XPATH,\n",
    "\t\t\t\t\t\t\t'//body')))\n",
    "\t\thour = driver.find_element_by_xpath('//section[@id=\"event-info-section\"]/div[2]/div[2]/span[1]').text\n",
    "\t\tprice = driver.find_element_by_xpath('//section[@id=\"event-ticket-options\"]/div/div[2]/div').text\n",
    "\t\ttime.sleep(2)\n",
    "\t\tdriver.back()\n",
    "\t\t\n",
    "\t\t#write variables to dictionary\n",
    "\t\tevent_dict['sale_url'] = sale_url\n",
    "\t\tevent_dict['month'] = month\n",
    "\t\tevent_dict['day'] = day\n",
    "\t\tevent_dict['weekday'] = weekday\n",
    "\t\tevent_dict['performer'] = performer\n",
    "\t\tevent_dict['venue'] = venue\n",
    "\t\tevent_dict['city'] = city\n",
    "\t\tevent_dict['time'] = hour\n",
    "\t\tevent_dict['price'] = price\n",
    "\t\tprint(event_dict)\n",
    "\t\tevent_dict\n",
    "\t\t\n",
    "\t\t#write event to CSV\n",
    "\t\twriter.writerow(event_dict.values())"
   ]
  },
  {
   "cell_type": "code",
   "execution_count": 515,
   "metadata": {},
   "outputs": [
    {
     "data": {
      "text/plain": [
       "'MAY\\n22\\nTUE\\nBishop Briggs\\nBrooklyn Steel, Brooklyn NY'"
      ]
     },
     "execution_count": 515,
     "metadata": {},
     "output_type": "execute_result"
    }
   ],
   "source": [
    "events[5].text"
   ]
  },
  {
   "cell_type": "code",
   "execution_count": 517,
   "metadata": {},
   "outputs": [
    {
     "data": {
      "text/plain": [
       "75"
      ]
     },
     "execution_count": 517,
     "metadata": {},
     "output_type": "execute_result"
    }
   ],
   "source": [
    "len(events)"
   ]
  },
  {
   "cell_type": "code",
   "execution_count": null,
   "metadata": {},
   "outputs": [],
   "source": []
  }
 ],
 "metadata": {
  "kernelspec": {
   "display_name": "Python 3",
   "language": "python",
   "name": "python3"
  },
  "language_info": {
   "codemirror_mode": {
    "name": "ipython",
    "version": 3
   },
   "file_extension": ".py",
   "mimetype": "text/x-python",
   "name": "python",
   "nbconvert_exporter": "python",
   "pygments_lexer": "ipython3",
   "version": "3.6.4"
  }
 },
 "nbformat": 4,
 "nbformat_minor": 2
}
